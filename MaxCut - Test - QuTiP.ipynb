{
 "cells": [
  {
   "cell_type": "code",
   "execution_count": 1,
   "metadata": {},
   "outputs": [],
   "source": [
    "import numpy as np\n",
    "import scipy.linalg as la\n",
    "from scipy import sparse\n",
    "import matplotlib.pyplot as plt\n",
    "import scipy.fftpack as spfft\n",
    "from scipy.optimize import minimize,basinhopping\n",
    "import cvxpy as cvx\n",
    "from qutip import *"
   ]
  },
  {
   "cell_type": "markdown",
   "metadata": {},
   "source": [
    "This is a quick and inefficient MaxCut prototype using QuTiP"
   ]
  },
  {
   "cell_type": "code",
   "execution_count": 2,
   "metadata": {},
   "outputs": [],
   "source": [
    "# Number of qubits\n",
    "N= 4"
   ]
  },
  {
   "cell_type": "code",
   "execution_count": 3,
   "metadata": {},
   "outputs": [],
   "source": [
    "# Define Operators \n",
    "def gen_cij(edge):\n",
    "    i,j = edge\n",
    "    Id = [qeye(2) for n in range(N)]\n",
    "    si_n = tensor(Id)\n",
    "    Id[i] = sigmaz()\n",
    "    Id[j] = sigmaz()\n",
    "    zij = tensor(Id)\n",
    "    return 0.5*(si_n - zij)\n",
    "\n",
    "def gen_B():\n",
    "    b_op = 0*tensor([qeye(2) for j in range(N)])\n",
    "    for i in range(N):\n",
    "        Id = [qeye(2) for j in range(N)]\n",
    "        Id[i] = sigmax()\n",
    "        b_op += tensor(Id)\n",
    "    return b_op\n",
    "\n",
    "def gen_init():\n",
    "    init = tensor([basis(2,0) for i in range(N)])\n",
    "    x_all = tensor([hadamard_transform(1) for i in range(N)])\n",
    "    return (x_all*init).unit()\n",
    "\n"
   ]
  },
  {
   "cell_type": "code",
   "execution_count": 4,
   "metadata": {},
   "outputs": [],
   "source": [
    "ψ_init = gen_init()\n",
    "edges = [[0,1],[1,2],[2,3],[3,0]]\n",
    "C = np.sum(gen_cij(edge) for edge in edges)\n",
    "B = gen_B()"
   ]
  },
  {
   "cell_type": "code",
   "execution_count": 5,
   "metadata": {},
   "outputs": [],
   "source": [
    "def gen_U(angles):\n",
    "    L = len(angles)\n",
    "    γs = angles[:int(L/2)] \n",
    "    βs = angles[int(L/2):]\n",
    "    U = np.prod([(-1j*βs[i]*B).expm()*(-1j*γs[i]*C).expm() for i in range(int(L/2))]) \n",
    "    return U "
   ]
  },
  {
   "cell_type": "code",
   "execution_count": 35,
   "metadata": {},
   "outputs": [],
   "source": [
    "def cost(angles):\n",
    "    U_temp = gen_U(angles)\n",
    "    ψ_temp = U_temp*ψ_init\n",
    "    energy = -expect(C,ψ_temp)\n",
    "    \n",
    "    return energy"
   ]
  },
  {
   "cell_type": "markdown",
   "metadata": {},
   "source": [
    "## Comparing some optimization routines"
   ]
  },
  {
   "cell_type": "markdown",
   "metadata": {},
   "source": [
    "### Single layer"
   ]
  },
  {
   "cell_type": "code",
   "execution_count": 8,
   "metadata": {},
   "outputs": [],
   "source": [
    "num_layers = 1"
   ]
  },
  {
   "cell_type": "code",
   "execution_count": 36,
   "metadata": {},
   "outputs": [],
   "source": [
    "stats_NM = []\n",
    "\n",
    "def callback_NM(x):\n",
    "    stats_NM.append(cost(x))\n",
    "    \n",
    "# sol_NM = minimize(cost,np.random.rand(2*num_layers),args=({'Nfeval':0}),method='Nelder-Mead',options={'maxiter':100})\n",
    "\n",
    "sol_NM = minimize(cost,np.random.rand(2*num_layers),callback=callback_NM,method='Nelder-Mead',options={'maxiter':100})"
   ]
  },
  {
   "cell_type": "code",
   "execution_count": 37,
   "metadata": {},
   "outputs": [
    {
     "data": {
      "text/plain": [
       "(array([0.78542695, 0.39268534]), -2.9999999968315842)"
      ]
     },
     "execution_count": 37,
     "metadata": {},
     "output_type": "execute_result"
    }
   ],
   "source": [
    "sol_NM.x,sol_NM.fun"
   ]
  },
  {
   "cell_type": "code",
   "execution_count": 39,
   "metadata": {},
   "outputs": [
    {
     "data": {
      "text/plain": [
       "[<matplotlib.lines.Line2D at 0x114561898>]"
      ]
     },
     "execution_count": 39,
     "metadata": {},
     "output_type": "execute_result"
    },
    {
     "data": {
      "image/png": "[encoded data removed]",
      "text/plain": [
       "<matplotlib.figure.Figure at 0x1143c99b0>"
      ]
     },
     "metadata": {},
     "output_type": "display_data"
    }
   ],
   "source": [
    "plt.plot(stats_NM)\n"
   ]
  },
  {
   "cell_type": "code",
   "execution_count": 41,
   "metadata": {},
   "outputs": [],
   "source": [
    "stats_BFGS = []\n",
    "\n",
    "def callback_BFGS(x):\n",
    "    stats_BFGS.append(cost2(x))\n",
    "\n",
    "sol_BFGS = minimize(cost,np.random.rand(2*num_layers),callback=callback_BFGS,method='BFGS')"
   ]
  },
  {
   "cell_type": "code",
   "execution_count": 42,
   "metadata": {},
   "outputs": [
    {
     "data": {
      "text/plain": [
       "[<matplotlib.lines.Line2D at 0x113e76d30>]"
      ]
     },
     "execution_count": 42,
     "metadata": {},
     "output_type": "execute_result"
    },
    {
     "data": {
      "image/png": "[encoded data removed]",
      "text/plain": [
       "<matplotlib.figure.Figure at 0x1145efc50>"
      ]
     },
     "metadata": {},
     "output_type": "display_data"
    }
   ],
   "source": [
    "plt.plot(stats_BFGS)"
   ]
  },
  {
   "cell_type": "code",
   "execution_count": 43,
   "metadata": {
    "scrolled": false
   },
   "outputs": [
    {
     "data": {
      "text/plain": [
       "(array([0.78539906, 0.39269931]), -2.9999999999979456)"
      ]
     },
     "execution_count": 43,
     "metadata": {},
     "output_type": "execute_result"
    }
   ],
   "source": [
    "sol_BFGS.x,sol_BFGS.fun"
   ]
  },
  {
   "cell_type": "markdown",
   "metadata": {},
   "source": [
    "### Two layers"
   ]
  },
  {
   "cell_type": "code",
   "execution_count": 44,
   "metadata": {},
   "outputs": [],
   "source": [
    "num_layers = 2 "
   ]
  },
  {
   "cell_type": "code",
   "execution_count": 45,
   "metadata": {},
   "outputs": [],
   "source": [
    "stats_NM = []\n",
    "\n",
    "def callback_NM(x):\n",
    "    stats_NM.append(cost(x))\n",
    "    \n",
    "# sol_NM = minimize(cost,np.random.rand(2*num_layers),args=({'Nfeval':0}),method='Nelder-Mead',options={'maxiter':100})\n",
    "\n",
    "sol_NM = minimize(cost,np.random.rand(2*num_layers),callback=callback_NM,method='Nelder-Mead',options={'maxiter':100})"
   ]
  },
  {
   "cell_type": "code",
   "execution_count": 46,
   "metadata": {
    "scrolled": true
   },
   "outputs": [
    {
     "data": {
      "text/plain": [
       "[<matplotlib.lines.Line2D at 0x113e44da0>]"
      ]
     },
     "execution_count": 46,
     "metadata": {},
     "output_type": "execute_result"
    },
    {
     "data": {
      "image/png": "[encoded data removed]",
      "text/plain": [
       "<matplotlib.figure.Figure at 0x1145d7860>"
      ]
     },
     "metadata": {},
     "output_type": "display_data"
    }
   ],
   "source": [
    "plt.plot(stats_NM)"
   ]
  },
  {
   "cell_type": "code",
   "execution_count": 50,
   "metadata": {},
   "outputs": [
    {
     "data": {
      "text/plain": [
       "(array([1.11897308, 0.90485948, 0.45232549, 0.5593693 ]), -3.9999988430998092)"
      ]
     },
     "execution_count": 50,
     "metadata": {},
     "output_type": "execute_result"
    }
   ],
   "source": [
    "sol_NM.x,sol_NM.fun"
   ]
  },
  {
   "cell_type": "code",
   "execution_count": 48,
   "metadata": {},
   "outputs": [],
   "source": [
    "stats_BFGS = []\n",
    "\n",
    "def callback_BFGS(x):\n",
    "    stats_BFGS.append(cost2(x))\n",
    "\n",
    "sol_BFGS = minimize(cost,np.random.rand(2*num_layers),callback=callback_BFGS,method='BFGS')"
   ]
  },
  {
   "cell_type": "code",
   "execution_count": 51,
   "metadata": {},
   "outputs": [
    {
     "data": {
      "text/plain": [
       "[<matplotlib.lines.Line2D at 0x1144ccba8>]"
      ]
     },
     "execution_count": 51,
     "metadata": {},
     "output_type": "execute_result"
    },
    {
     "data": {
      "image/png": "[encoded data removed]",
      "text/plain": [
       "<matplotlib.figure.Figure at 0x1143473c8>"
      ]
     },
     "metadata": {},
     "output_type": "display_data"
    }
   ],
   "source": [
    "plt.plot(stats_BFGS)"
   ]
  },
  {
   "cell_type": "code",
   "execution_count": 52,
   "metadata": {},
   "outputs": [
    {
     "data": {
      "text/plain": [
       "(array([ 0.78539882, -1.5707968 ,  0.78539835,  0.39269892]),\n",
       " -3.999999999998869)"
      ]
     },
     "execution_count": 52,
     "metadata": {},
     "output_type": "execute_result"
    }
   ],
   "source": [
    "sol_BFGS.x,sol_BFGS.fun"
   ]
  },
  {
   "cell_type": "markdown",
   "metadata": {},
   "source": [
    "## Comparing with Rigetti's solution"
   ]
  },
  {
   "cell_type": "code",
   "execution_count": 202,
   "metadata": {},
   "outputs": [
    {
     "name": "stdout",
     "output_type": "stream",
     "text": [
      "The optimized value is 2.9999608711896224\n"
     ]
    }
   ],
   "source": [
    "ψ_init = gen_init()\n",
    "angle_list = [2.35394,1.18] #[γ,β]\n",
    "U_mat = gen_U(angle_list)\n",
    "ψ = U_mat*ψ_init \n",
    "\n",
    "energy = expect(C,ψ)\n",
    "print(f\"The optimized value is {energy}\")"
   ]
  },
  {
   "cell_type": "markdown",
   "metadata": {},
   "source": [
    "Plotting the wavefuntion weights"
   ]
  },
  {
   "cell_type": "code",
   "execution_count": 203,
   "metadata": {},
   "outputs": [
    {
     "data": {
      "text/plain": [
       "<Container object of 16 artists>"
      ]
     },
     "execution_count": 203,
     "metadata": {},
     "output_type": "execute_result"
    },
    {
     "data": {
      "image/png": "[encoded data removed]",
      "text/plain": [
       "<matplotlib.figure.Figure at 0x11785cd68>"
      ]
     },
     "metadata": {},
     "output_type": "display_data"
    }
   ],
   "source": [
    "plt.bar(np.arange(16),np.abs(ψ.full()).flatten())"
   ]
  },
  {
   "cell_type": "code",
   "execution_count": null,
   "metadata": {},
   "outputs": [],
   "source": []
  }
 ],
 "metadata": {
  "kernelspec": {
   "display_name": "Python + QuTiP",
   "language": "python",
   "name": "qutip-env"
  },
  "language_info": {
   "codemirror_mode": {
    "name": "ipython",
    "version": 3
   },
   "file_extension": ".py",
   "mimetype": "text/x-python",
   "name": "python",
   "nbconvert_exporter": "python",
   "pygments_lexer": "ipython3",
   "version": "3.6.4"
  }
 },
 "nbformat": 4,
 "nbformat_minor": 2
}
