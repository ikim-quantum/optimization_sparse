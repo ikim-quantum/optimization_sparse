{
 "cells": [
  {
   "cell_type": "code",
   "execution_count": 1,
   "metadata": {},
   "outputs": [],
   "source": [
    "import numpy as np\n",
    "import scipy.linalg as la\n",
    "from scipy import sparse\n",
    "import matplotlib.pyplot as plt\n",
    "import scipy.fftpack as spfft\n",
    "from scipy.optimize import minimize,basinhopping\n",
    "import cvxpy as cvx\n",
    "from qutip import *"
   ]
  },
  {
   "cell_type": "markdown",
   "metadata": {},
   "source": [
    "This is a quick and inefficient MaxCut prototype using QuTiP"
   ]
  },
  {
   "cell_type": "code",
   "execution_count": 2,
   "metadata": {},
   "outputs": [],
   "source": [
    "# Number of qubits\n",
    "N= 4"
   ]
  },
  {
   "cell_type": "code",
   "execution_count": 3,
   "metadata": {},
   "outputs": [],
   "source": [
    "# Define Operators \n",
    "def gen_cij(edge):\n",
    "    i,j = edge\n",
    "    Id = [qeye(2) for n in range(N)]\n",
    "    si_n = tensor(Id)\n",
    "    Id[i] = sigmaz()\n",
    "    Id[j] = sigmaz()\n",
    "    zij = tensor(Id)\n",
    "    return 0.5*(si_n - zij)\n",
    "\n",
    "def gen_B():\n",
    "    b_op = 0*tensor([qeye(2) for j in range(N)])\n",
    "    for i in range(N):\n",
    "        Id = [qeye(2) for j in range(N)]\n",
    "        Id[i] = sigmax()\n",
    "        b_op += tensor(Id)\n",
    "    return b_op\n",
    "\n",
    "def gen_init():\n",
    "    init = tensor([basis(2,0) for i in range(N)])\n",
    "    x_all = tensor([hadamard_transform(1) for i in range(N)])\n",
    "    return (x_all*init).unit()\n",
    "\n"
   ]
  },
  {
   "cell_type": "code",
   "execution_count": 4,
   "metadata": {},
   "outputs": [],
   "source": [
    "ψ_init = gen_init()\n",
    "edges = [[0,1],[1,2],[2,3],[3,0]]\n",
    "C = np.sum(gen_cij(edge) for edge in edges)\n",
    "B = gen_B()\n",
    "C_vals, C_vecs = C.eigenstates()"
   ]
  },
  {
   "cell_type": "code",
   "execution_count": 5,
   "metadata": {},
   "outputs": [],
   "source": [
    "def gen_U(angles):\n",
    "    L = len(angles)\n",
    "    γs = angles[:int(L/2)] \n",
    "    βs = angles[int(L/2):]\n",
    "    U = np.prod([(-1j*βs[i]*B).expm()*(-1j*γs[i]*C).expm() for i in range(int(L/2))]) \n",
    "    return U "
   ]
  },
  {
   "cell_type": "code",
   "execution_count": 6,
   "metadata": {},
   "outputs": [],
   "source": [
    "def cost(angles,num_measures=0):\n",
    "    \"\"\" The cost function of MaxCut QAOA\n",
    "    \n",
    "    Args:\n",
    "        angles (list): The list of angles. The first half contains the γs and the second half has βs.\n",
    "        num_measures (int): The number of measurement shots.\n",
    "\n",
    "    Returns:\n",
    "        float: The negative of the energy of the C expression. \"\"\"\n",
    "    \n",
    "    \n",
    "    U_temp = gen_U(angles)\n",
    "    ψ_temp = U_temp*ψ_init\n",
    "    if num_measures == 0:\n",
    "        energy = -expect(C,ψ_temp)\n",
    "    else:\n",
    "        sim_counts = np.random.multinomial(num_measures,expect(ket2dm(ψ_temp),C_vecs))/num_measures \n",
    "        energy = - np.dot(C_vals,sim_counts)\n",
    "\n",
    "    return energy"
   ]
  },
  {
   "cell_type": "code",
   "execution_count": 7,
   "metadata": {},
   "outputs": [
    {
     "data": {
      "text/plain": [
       "-2.8996209078634116"
      ]
     },
     "execution_count": 7,
     "metadata": {},
     "output_type": "execute_result"
    }
   ],
   "source": [
    "cost([1,2],0)"
   ]
  },
  {
   "cell_type": "markdown",
   "metadata": {},
   "source": [
    "## Comparing some optimization routines"
   ]
  },
  {
   "cell_type": "markdown",
   "metadata": {},
   "source": [
    "### Single layer"
   ]
  },
  {
   "cell_type": "markdown",
   "metadata": {},
   "source": [
    "#### Nelder-Mead"
   ]
  },
  {
   "cell_type": "code",
   "execution_count": 8,
   "metadata": {},
   "outputs": [],
   "source": [
    "num_layers = 1"
   ]
  },
  {
   "cell_type": "code",
   "execution_count": 23,
   "metadata": {},
   "outputs": [],
   "source": [
    "n_trials = 50\n",
    "n_measures = 1000000\n",
    "stats_NM = []\n",
    "\n",
    "def callback_NM(x): # The callback function records the \"noiseless\" value of the cost function. \n",
    "    stats_NM_temp.append(cost(x))\n",
    "    \n",
    "for i in range(n_trials):\n",
    "    stats_NM_temp = []\n",
    "\n",
    "    sol_NM = minimize(cost,np.random.rand(2*num_layers),callback=callback_NM,args = (n_measures),method='Nelder-Mead')\n",
    "    stats_NM.append(stats_NM_temp)"
   ]
  },
  {
   "cell_type": "code",
   "execution_count": 24,
   "metadata": {},
   "outputs": [
    {
     "data": {
      "text/plain": [
       "(array([0.76629027, 0.38729985]), -3.002346)"
      ]
     },
     "execution_count": 24,
     "metadata": {},
     "output_type": "execute_result"
    }
   ],
   "source": [
    "sol_NM.x,sol_NM.fun #Noisy cost of the optimal solution"
   ]
  },
  {
   "cell_type": "code",
   "execution_count": 25,
   "metadata": {},
   "outputs": [
    {
     "data": {
      "text/plain": [
       "-2.9990368311518103"
      ]
     },
     "execution_count": 25,
     "metadata": {},
     "output_type": "execute_result"
    }
   ],
   "source": [
    "cost(sol_NM.x,0) # Noiseless cost of the optimal solution"
   ]
  },
  {
   "cell_type": "code",
   "execution_count": 26,
   "metadata": {},
   "outputs": [
    {
     "name": "stderr",
     "output_type": "stream",
     "text": [
      "WARNING:matplotlib.legend:No handles with labels found to put in legend.\n"
     ]
    },
    {
     "data": {
      "image/png": "[encoded data removed]",
      "text/plain": [
       "<Figure size 432x288 with 1 Axes>"
      ]
     },
     "metadata": {},
     "output_type": "display_data"
    }
   ],
   "source": [
    "for i in range(n_trials):\n",
    "    #plt.plot(stats_NM[i],label=f'trial #{i}')\n",
    "    plt.plot(stats_NM[i])\n",
    "plt.legend()\n",
    "plt.xlabel('# steps')\n",
    "plt.ylabel('cost');"
   ]
  },
  {
   "cell_type": "markdown",
   "metadata": {},
   "source": [
    "#### BFGS"
   ]
  },
  {
   "cell_type": "markdown",
   "metadata": {},
   "source": [
    "It seems that BFGS doesn't work with noise! "
   ]
  },
  {
   "cell_type": "code",
   "execution_count": 83,
   "metadata": {},
   "outputs": [],
   "source": [
    "stats_BFGS = []\n",
    "n_measures = 10000\n",
    "\n",
    "def callback_BFGS(x):\n",
    "    stats_BFGS.append(cost(x))\n",
    "\n",
    "sol_BFGS = minimize(cost,np.random.rand(2*num_layers),args = (n_measures),callback=callback_BFGS,method='BFGS')"
   ]
  },
  {
   "cell_type": "code",
   "execution_count": 84,
   "metadata": {},
   "outputs": [
    {
     "data": {
      "text/plain": [
       "(array([0.16943934, 0.14162577]), -2.191)"
      ]
     },
     "execution_count": 84,
     "metadata": {},
     "output_type": "execute_result"
    }
   ],
   "source": [
    "sol_BFGS.x,sol_BFGS.fun #Noisy cost of the optimal solution"
   ]
  },
  {
   "cell_type": "code",
   "execution_count": 85,
   "metadata": {},
   "outputs": [
    {
     "data": {
      "text/plain": [
       "-2.1784099652395925"
      ]
     },
     "execution_count": 85,
     "metadata": {},
     "output_type": "execute_result"
    }
   ],
   "source": [
    "cost(sol_BFGS.x,0) # Noiseless cost of the optimal solution"
   ]
  },
  {
   "cell_type": "code",
   "execution_count": 86,
   "metadata": {},
   "outputs": [
    {
     "data": {
      "text/plain": [
       "[<matplotlib.lines.Line2D at 0x117901470>]"
      ]
     },
     "execution_count": 86,
     "metadata": {},
     "output_type": "execute_result"
    },
    {
     "data": {
      "image/png": "[encoded data removed]",
      "text/plain": [
       "<matplotlib.figure.Figure at 0x1173755c0>"
      ]
     },
     "metadata": {},
     "output_type": "display_data"
    }
   ],
   "source": [
    "plt.plot(stats_BFGS)\n",
    "# plt.ylim([-1,-3])"
   ]
  },
  {
   "cell_type": "markdown",
   "metadata": {},
   "source": [
    "### Two layers"
   ]
  },
  {
   "cell_type": "markdown",
   "metadata": {},
   "source": [
    "#### Nelder-Mead"
   ]
  },
  {
   "cell_type": "code",
   "execution_count": 40,
   "metadata": {},
   "outputs": [],
   "source": [
    "num_layers = 2 "
   ]
  },
  {
   "cell_type": "code",
   "execution_count": 53,
   "metadata": {},
   "outputs": [],
   "source": [
    "stats_NM = []\n",
    "n_measures = 10000\n",
    "\n",
    "def callback_NM(x): # The callback function records the \"noiseless\" value of the cost function. \n",
    "    stats_NM.append(cost(x))\n",
    "    \n",
    "sol_NM = minimize(cost,np.random.rand(2*num_layers),callback=callback_NM,args = (n_measures),method='Nelder-Mead')"
   ]
  },
  {
   "cell_type": "code",
   "execution_count": 54,
   "metadata": {
    "scrolled": true
   },
   "outputs": [
    {
     "data": {
      "text/plain": [
       "[<matplotlib.lines.Line2D at 0x117027630>]"
      ]
     },
     "execution_count": 54,
     "metadata": {},
     "output_type": "execute_result"
    },
    {
     "data": {
      "image/png": "[encoded data removed]",
      "text/plain": [
       "<matplotlib.figure.Figure at 0x116e11278>"
      ]
     },
     "metadata": {},
     "output_type": "display_data"
    }
   ],
   "source": [
    "plt.plot(stats_NM)"
   ]
  },
  {
   "cell_type": "code",
   "execution_count": 55,
   "metadata": {},
   "outputs": [
    {
     "data": {
      "text/plain": [
       "(array([0.5442155 , 0.3006291 , 0.06868369, 0.32935779]), -2.7998)"
      ]
     },
     "execution_count": 55,
     "metadata": {},
     "output_type": "execute_result"
    }
   ],
   "source": [
    "sol_NM.x,sol_NM.fun"
   ]
  },
  {
   "cell_type": "code",
   "execution_count": 56,
   "metadata": {},
   "outputs": [
    {
     "data": {
      "text/plain": [
       "-2.767233410961206"
      ]
     },
     "execution_count": 56,
     "metadata": {},
     "output_type": "execute_result"
    }
   ],
   "source": [
    "cost(sol_NM.x,0) # Noiseless cost of the optimal solution"
   ]
  },
  {
   "cell_type": "code",
   "execution_count": 57,
   "metadata": {},
   "outputs": [],
   "source": [
    "stats_BFGS = []\n",
    "n_measures = 10000\n",
    "\n",
    "def callback_BFGS(x):\n",
    "    stats_BFGS.append(cost(x))\n",
    "\n",
    "sol_BFGS = minimize(cost,np.random.rand(2*num_layers),args = (n_measures),callback=callback_BFGS,method='BFGS')"
   ]
  },
  {
   "cell_type": "code",
   "execution_count": 58,
   "metadata": {},
   "outputs": [
    {
     "data": {
      "text/plain": [
       "[<matplotlib.lines.Line2D at 0x117086470>]"
      ]
     },
     "execution_count": 58,
     "metadata": {},
     "output_type": "execute_result"
    },
    {
     "data": {
      "image/png": "[encoded data removed]",
      "text/plain": [
       "<matplotlib.figure.Figure at 0x117027b38>"
      ]
     },
     "metadata": {},
     "output_type": "display_data"
    }
   ],
   "source": [
    "plt.plot(stats_BFGS)"
   ]
  },
  {
   "cell_type": "code",
   "execution_count": 59,
   "metadata": {},
   "outputs": [
    {
     "data": {
      "text/plain": [
       "(array([0.71309047, 0.99104526, 0.91231204, 0.7920937 ]), -1.561)"
      ]
     },
     "execution_count": 59,
     "metadata": {},
     "output_type": "execute_result"
    }
   ],
   "source": [
    "sol_BFGS.x,sol_BFGS.fun"
   ]
  },
  {
   "cell_type": "code",
   "execution_count": 60,
   "metadata": {},
   "outputs": [
    {
     "data": {
      "text/plain": [
       "-1.550268804858805"
      ]
     },
     "execution_count": 60,
     "metadata": {},
     "output_type": "execute_result"
    }
   ],
   "source": [
    "cost(sol_BFGS.x,0) # Noiseless cost of the optimal solution"
   ]
  },
  {
   "cell_type": "markdown",
   "metadata": {},
   "source": [
    "## Comparing with Rigetti's solution"
   ]
  },
  {
   "cell_type": "code",
   "execution_count": 202,
   "metadata": {},
   "outputs": [
    {
     "name": "stdout",
     "output_type": "stream",
     "text": [
      "The optimized value is 2.9999608711896224\n"
     ]
    }
   ],
   "source": [
    "ψ_init = gen_init()\n",
    "angle_list = [2.35394,1.18] #[γ,β]\n",
    "U_mat = gen_U(angle_list)\n",
    "ψ = U_mat*ψ_init \n",
    "\n",
    "energy = expect(C,ψ)\n",
    "print(f\"The optimized value is {energy}\")"
   ]
  },
  {
   "cell_type": "markdown",
   "metadata": {},
   "source": [
    "Plotting the wavefuntion weights"
   ]
  },
  {
   "cell_type": "code",
   "execution_count": 203,
   "metadata": {},
   "outputs": [
    {
     "data": {
      "text/plain": [
       "<Container object of 16 artists>"
      ]
     },
     "execution_count": 203,
     "metadata": {},
     "output_type": "execute_result"
    },
    {
     "data": {
      "image/png": "[encoded data removed]",
      "text/plain": [
       "<matplotlib.figure.Figure at 0x11785cd68>"
      ]
     },
     "metadata": {},
     "output_type": "display_data"
    }
   ],
   "source": [
    "plt.bar(np.arange(16),np.abs(ψ.full()).flatten())"
   ]
  },
  {
   "cell_type": "code",
   "execution_count": null,
   "metadata": {},
   "outputs": [],
   "source": []
  }
 ],
 "metadata": {
  "kernelspec": {
   "display_name": "Python 3",
   "language": "python",
   "name": "python3"
  },
  "language_info": {
   "codemirror_mode": {
    "name": "ipython",
    "version": 3
   },
   "file_extension": ".py",
   "mimetype": "text/x-python",
   "name": "python",
   "nbconvert_exporter": "python",
   "pygments_lexer": "ipython3",
   "version": "3.6.5"
  }
 },
 "nbformat": 4,
 "nbformat_minor": 2
}
