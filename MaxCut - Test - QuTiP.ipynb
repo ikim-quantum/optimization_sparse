{
 "cells": [
  {
   "cell_type": "code",
   "execution_count": 2,
   "metadata": {},
   "outputs": [],
   "source": [
    "import numpy as np\n",
    "import scipy.linalg as la\n",
    "from scipy import sparse\n",
    "import matplotlib.pyplot as plt\n",
    "import scipy.fftpack as spfft\n",
    "import cvxpy as cvx\n",
    "from qutip import *"
   ]
  },
  {
   "cell_type": "markdown",
   "metadata": {},
   "source": [
    "This is a quick and inefficient MaxCut prototype using QuTiP"
   ]
  },
  {
   "cell_type": "code",
   "execution_count": 12,
   "metadata": {},
   "outputs": [],
   "source": [
    "# Number of qubits\n",
    "N= 4"
   ]
  },
  {
   "cell_type": "code",
   "execution_count": 55,
   "metadata": {},
   "outputs": [],
   "source": [
    "# Define Operators \n",
    "def gen_cij(edge):\n",
    "    i,j = edge\n",
    "    Id = [qeye(2) for n in range(N)]\n",
    "    si_n = tensor(Id)\n",
    "    Id[i] = sigmaz()\n",
    "    Id[j] = sigmaz()\n",
    "    zij = tensor(Id)\n",
    "    return 0.5*(si_n - zij)\n",
    "\n",
    "def gen_B():\n",
    "    b_op = 0*tensor([qeye(2) for j in range(N)])\n",
    "    for i in range(N):\n",
    "        Id = [qeye(2) for j in range(N)]\n",
    "        Id[i] = sigmax()\n",
    "        b_op += tensor(Id)\n",
    "    return b_op\n",
    "\n",
    "def gen_init():\n",
    "    init = tensor([basis(2,0) for i in range(N)])\n",
    "    x_all = tensor([hadamard_transform(1) for i in range(N)])\n",
    "    return (x_all*init).unit()\n",
    "\n"
   ]
  },
  {
   "cell_type": "code",
   "execution_count": 56,
   "metadata": {},
   "outputs": [],
   "source": [
    "ψ_init = gen_init()\n",
    "edges = [[0,1],[1,2],[2,3],[3,0]]\n",
    "C = np.sum(gen_cij(edge) for edge in edges)\n",
    "B = gen_B()"
   ]
  },
  {
   "cell_type": "code",
   "execution_count": 57,
   "metadata": {},
   "outputs": [],
   "source": [
    "def gen_U(angles):\n",
    "    U = np.prod([(-1j*angle[1]*B).expm()*(-1j*angle[0]*C).expm() for angle in angles]) \n",
    "    return U "
   ]
  },
  {
   "cell_type": "code",
   "execution_count": 65,
   "metadata": {},
   "outputs": [
    {
     "name": "stdout",
     "output_type": "stream",
     "text": [
      "2.3220618230885233\n"
     ]
    }
   ],
   "source": [
    "angle_list = [[2.35394,1.1800]] #([γ,β])\n",
    "U_mat = gen_U(angle_list)\n",
    "ψ = U*ψ_init \n",
    "\n",
    "energy = expect(C,ψ)\n",
    "print(energy)"
   ]
  },
  {
   "cell_type": "code",
   "execution_count": 66,
   "metadata": {},
   "outputs": [
    {
     "data": {
      "text/plain": [
       "[<matplotlib.lines.Line2D at 0x11678f748>]"
      ]
     },
     "execution_count": 66,
     "metadata": {},
     "output_type": "execute_result"
    },
    {
     "data": {
      "image/png": "[encoded data removed]",
      "text/plain": [
       "<matplotlib.figure.Figure at 0x116639a20>"
      ]
     },
     "metadata": {},
     "output_type": "display_data"
    }
   ],
   "source": [
    "plt.plot(np.abs(ψ.full()))"
   ]
  },
  {
   "cell_type": "code",
   "execution_count": null,
   "metadata": {},
   "outputs": [],
   "source": []
  }
 ],
 "metadata": {
  "kernelspec": {
   "display_name": "Python + QuTiP",
   "language": "python",
   "name": "qutip-env"
  },
  "language_info": {
   "codemirror_mode": {
    "name": "ipython",
    "version": 3
   },
   "file_extension": ".py",
   "mimetype": "text/x-python",
   "name": "python",
   "nbconvert_exporter": "python",
   "pygments_lexer": "ipython3",
   "version": "3.6.4"
  }
 },
 "nbformat": 4,
 "nbformat_minor": 2
}
