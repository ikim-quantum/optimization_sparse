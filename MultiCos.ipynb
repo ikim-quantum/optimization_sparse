{
 "cells": [
  {
   "cell_type": "code",
   "execution_count": 1,
   "metadata": {},
   "outputs": [],
   "source": [
    "import numpy as np\n",
    "import scipy.linalg as la\n",
    "from scipy import sparse\n",
    "import matplotlib.pyplot as plt\n",
    "import scipy.fftpack as spfft\n",
    "import cvxpy as cvx\n",
    "import sklearn.linear_model as lm"
   ]
  },
  {
   "cell_type": "code",
   "execution_count": 2,
   "metadata": {},
   "outputs": [],
   "source": [
    "import itertools as it"
   ]
  },
  {
   "cell_type": "markdown",
   "metadata": {},
   "source": [
    "## Cosine transform"
   ]
  },
  {
   "cell_type": "code",
   "execution_count": 3,
   "metadata": {},
   "outputs": [],
   "source": [
    "def cfunc(x_vec,k_vec,N): #define ω=πk/2N\n",
    "    \"\"\" The function that generates elements of the multidimensional Fourier transform matrix\n",
    "    \n",
    "    Args:\n",
    "        x_vec (list): The position coordinate vector.\n",
    "        k_vec (list): The momentum coordinate vector.\n",
    "        N      (int): The number of discrete points in each dimension (assuming they are all equal)\n",
    "\n",
    "    Returns:\n",
    "        float: The element cos(π*k[i]*(2*x[i]+1)/(2*N))*...*cos(π*k[d]*(2*x[d]+1)/(2*N)) with a normalization factor\"\"\"\n",
    "    \n",
    "    d = len(x_vec)\n",
    "    temp_val = 2**d*np.prod([np.cos(np.pi*k_vec[i]*(2*x_vec[i]+1)/(2*N)) for i in range(d)])\n",
    "    for i in k_vec:\n",
    "        if i==0:\n",
    "            temp_val*=1/np.sqrt(4*N)\n",
    "        else:\n",
    "            temp_val*=1/np.sqrt(2*N)\n",
    "    return temp_val"
   ]
  },
  {
   "cell_type": "code",
   "execution_count": 298,
   "metadata": {},
   "outputs": [],
   "source": [
    "def generate_Φ(nf,ndim):\n",
    "    \"\"\" The function that generates the full measurement matrix, i.e. the multidimensional Fourier matrix.\n",
    "    \n",
    "    Args:\n",
    "        nf   (int): The number of discrete points in each dimension (assuming they are all equal)\n",
    "        ndim (int): The number of dimensions.\n",
    "\n",
    "    Returns:\n",
    "        array: The matrix Φ with elements c(x,v,N)\"\"\"\n",
    "    \n",
    "    Φ_temp = np.array([[cfunc(x,k,nf) for k in it.product(range(nf),repeat=ndim)] for x in it.product(range(nf),repeat=ndim)])\n",
    "    return Φ_temp"
   ]
  },
  {
   "cell_type": "code",
   "execution_count": 300,
   "metadata": {},
   "outputs": [],
   "source": [
    "def generate_ms(indxs,nf,ndim):\n",
    "    \"\"\" The function that generates the full measurement matrix, i.e. the multidimensional Fourier matrix.\n",
    "    \n",
    "    Args:\n",
    "        indxs (list): A list that contains indices of measured vectors where each index is a list of coordinates\n",
    "        nf     (int): The number of discrete points in each dimension (assuming they are all equal)\n",
    "        ndim   (int): The  number of dimensions.\n",
    "\n",
    "    Returns:\n",
    "        array: The matrix Φ_R with elements c(x,v,N) restricted only to the measured subspace\"\"\"\n",
    "    \n",
    "    Φ_temp = np.array([[cfunc(x,k,nf) for k in it.product(range(nf),repeat=ndim)] for x in indxs])\n",
    "    return Φ_temp"
   ]
  },
  {
   "cell_type": "code",
   "execution_count": 209,
   "metadata": {},
   "outputs": [],
   "source": [
    "def find_rep(nums,base,ndim):\n",
    "    \"\"\" The function that converts an integer index to a list of coordinates.\n",
    "    \n",
    "    Args:\n",
    "        nums  (list): A list of indices that are measured, where each element n is 0<=n<base**ndim\n",
    "        base   (int): The number of discrete points in each dimension (assuming they are all equal)\n",
    "        ndim   (int): The  number of dimensions.\n",
    "\n",
    "    Returns:\n",
    "        array: The converted indices of measured vectors where each index is now a list of coordinates\"\"\"    \n",
    "    \n",
    "    rep = []\n",
    "    for i in range(ndim-1):\n",
    "        rep.append(nums//(base**(ndim-i-1)))\n",
    "        nums = nums%(base**(ndim-i-1))\n",
    "    rep.append(nums)\n",
    "    return np.array(rep).T"
   ]
  },
  {
   "cell_type": "code",
   "execution_count": 208,
   "metadata": {},
   "outputs": [],
   "source": [
    "def reconstruct_sparse_cosine(m_vecs,y_vals,verbose=False):\n",
    "    \"\"\" The function that reconstruct a sparse signal from incomplete measurements using cvx.\n",
    "    \n",
    "    Args:\n",
    "        m_vecs  (array): The matrix Φ_R with elements c(x,v,N) restricted only to the measured subspace\n",
    "        y_vals   (list): The list of measurement results\n",
    "        verbose  (bool): Optional argument that shows the progress of the optimizer if True\n",
    "\n",
    "    Returns:\n",
    "        list: The reconstructed signal vector\"\"\"  \n",
    "    \n",
    "    vx = cvx.Variable(n_f*n_f)\n",
    "    objective = cvx.Minimize(cvx.norm(vx, 1))\n",
    "    constraints = [m_vecs*vx == y_vals]\n",
    "    prob = cvx.Problem(objective, constraints)\n",
    "    result = prob.solve(verbose=verb)\n",
    "    \n",
    "    return np.squeeze(np.array(vx.value))"
   ]
  },
  {
   "cell_type": "code",
   "execution_count": 304,
   "metadata": {},
   "outputs": [],
   "source": [
    "def iterative_ht(m_vecs,y_vals,sparsity,threshold = 1e-3, max_iter=200,verbose=True):\n",
    "    \"\"\" The function that reconstruct a sparse signal from incomplete measurements using cvx.\n",
    "    \n",
    "    Args:\n",
    "        m_vecs     (array): The matrix Φ_R with elements c(x,v,N) restricted only to the measured subspace\n",
    "        y_vals      (list): The list of measurement results\n",
    "        sparsity     (int): The number of non-zero elements in the signal\n",
    "        threshold  (float): The difference threshold between the solution and observations before the optimizer terminates\n",
    "        max_iter   (float): The maximum number of iterations before the optimizer terminates \n",
    "        verbose     (bool): Optional argument that shows the progress of the optimizer if True\n",
    "\n",
    "    Returns:\n",
    "        list: The reconstructed signal vector\"\"\"  \n",
    "    \n",
    "    x_vec = np.zeros(m_vecs.shape[1])\n",
    "    ic = 0\n",
    "    while np.linalg.norm(y_vals-m_vecs@x_vec)>threshold and ic<max_iter:\n",
    "        ic += 1\n",
    "        x_vec = x_vec + m_vecs.T@(y_vals-m_vecs@x_vec)\n",
    "        x_vec[np.argsort(-np.abs(x_vec))[sparsity:]] = 0\n",
    "        \n",
    "        if verbose:\n",
    "            workdone = (ic)/max_iter\n",
    "            print(\"\\rProgress: [{0:50s}] {1:.1f}%\".format('#' * int(workdone * 50), workdone*100), end=\"\", flush=True)\n",
    "    return x_vec "
   ]
  },
  {
   "cell_type": "markdown",
   "metadata": {},
   "source": [
    "## Test"
   ]
  },
  {
   "cell_type": "markdown",
   "metadata": {},
   "source": [
    "### Signal"
   ]
  },
  {
   "cell_type": "code",
   "execution_count": 299,
   "metadata": {},
   "outputs": [],
   "source": [
    "n_f = 25\n",
    "n_dim = 2\n",
    "Φ_mat = generate_Φ(n_f,n_dim)"
   ]
  },
  {
   "cell_type": "code",
   "execution_count": 301,
   "metadata": {},
   "outputs": [],
   "source": [
    "test_rvec = np.array([np.cos(x)*np.cos(y)+np.cos(2*x)*np.cos(2*y) for x in range(n_f) for y in range(n_f)])"
   ]
  },
  {
   "cell_type": "code",
   "execution_count": 302,
   "metadata": {},
   "outputs": [],
   "source": [
    "test_fvec = Φ_mat@test_rvec"
   ]
  },
  {
   "cell_type": "markdown",
   "metadata": {},
   "source": [
    "Test signal in the real space"
   ]
  },
  {
   "cell_type": "code",
   "execution_count": 274,
   "metadata": {},
   "outputs": [
    {
     "data": {
      "text/plain": [
       "<matplotlib.image.AxesImage at 0x1149ec2e8>"
      ]
     },
     "execution_count": 274,
     "metadata": {},
     "output_type": "execute_result"
    },
    {
     "data": {
      "image/png": "[encoded data removed]",
      "text/plain": [
       "<matplotlib.figure.Figure at 0x114932b00>"
      ]
     },
     "metadata": {},
     "output_type": "display_data"
    }
   ],
   "source": [
    "plt.imshow(test_rvec.reshape((n_f,n_f)))"
   ]
  },
  {
   "cell_type": "markdown",
   "metadata": {},
   "source": [
    "Test signal in the Fourier space"
   ]
  },
  {
   "cell_type": "code",
   "execution_count": 311,
   "metadata": {},
   "outputs": [
    {
     "data": {
      "text/plain": [
       "<matplotlib.image.AxesImage at 0x1131c1d30>"
      ]
     },
     "execution_count": 311,
     "metadata": {},
     "output_type": "execute_result"
    },
    {
     "data": {
      "image/png": "[encoded data removed]",
      "text/plain": [
       "<matplotlib.figure.Figure at 0x1131a5be0>"
      ]
     },
     "metadata": {},
     "output_type": "display_data"
    }
   ],
   "source": [
    "plt.imshow(test_fvec.reshape((n_f,n_f)),origin='lower')"
   ]
  },
  {
   "cell_type": "markdown",
   "metadata": {},
   "source": [
    "### CVX"
   ]
  },
  {
   "cell_type": "code",
   "execution_count": 308,
   "metadata": {},
   "outputs": [],
   "source": [
    "m = 200\n",
    "rand_indx = np.random.choice(range(625),m,replace=False)"
   ]
  },
  {
   "cell_type": "code",
   "execution_count": 309,
   "metadata": {},
   "outputs": [],
   "source": [
    "rand_indx_v = find_rep(rand_indx,n_f,n_dim)\n",
    "m_vec_list  = generate_ms(rand_indx_v,n_f,n_dim)"
   ]
  },
  {
   "cell_type": "code",
   "execution_count": 310,
   "metadata": {},
   "outputs": [],
   "source": [
    "test_rec = reconstruct_sparse_cosine(Φ_mat[rand_indx],np.array(test_rvec)[rand_indx])"
   ]
  },
  {
   "cell_type": "code",
   "execution_count": 293,
   "metadata": {},
   "outputs": [],
   "source": [
    "# cost_record_iht = []\n",
    "cost_record_cvx_time = []\n",
    "for m in range(10,200):\n",
    "    rand_indx = np.random.choice(np.arange(n_f*n_f),m,replace=False)\n",
    "    x_sol = reconstruct_sparse_cosine(Φ_mat[rand_indx],np.array(test_rvec)[rand_indx])\n",
    "#     cost_record_iht.append(np.linalg.norm(rec_ct-x_sol))\n",
    "    cost_record_cvx_time.append(np.linalg.norm(Φ_mat@x_sol-np.array(test_rvec)))"
   ]
  },
  {
   "cell_type": "code",
   "execution_count": 306,
   "metadata": {},
   "outputs": [
    {
     "data": {
      "text/plain": [
       "Text(0,0.5,'cost')"
      ]
     },
     "execution_count": 306,
     "metadata": {},
     "output_type": "execute_result"
    },
    {
     "data": {
      "image/png": "[encoded data removed]",
      "text/plain": [
       "<matplotlib.figure.Figure at 0x115db35f8>"
      ]
     },
     "metadata": {},
     "output_type": "display_data"
    }
   ],
   "source": [
    "plt.plot(cost_record_cvx_time)\n",
    "plt.xlabel('num measurements')\n",
    "plt.ylabel('cost')"
   ]
  },
  {
   "cell_type": "markdown",
   "metadata": {},
   "source": [
    "Sample recovered signal in the Fourier domain"
   ]
  },
  {
   "cell_type": "code",
   "execution_count": 296,
   "metadata": {},
   "outputs": [
    {
     "data": {
      "text/plain": [
       "<matplotlib.image.AxesImage at 0x11324aac8>"
      ]
     },
     "execution_count": 296,
     "metadata": {},
     "output_type": "execute_result"
    },
    {
     "data": {
      "image/png": "[encoded data removed]",
      "text/plain": [
       "<matplotlib.figure.Figure at 0x113717c88>"
      ]
     },
     "metadata": {},
     "output_type": "display_data"
    }
   ],
   "source": [
    "plt.imshow(x_sol.reshape((n_f,n_f)),origin='lower')"
   ]
  },
  {
   "cell_type": "markdown",
   "metadata": {},
   "source": [
    "## IHT"
   ]
  },
  {
   "cell_type": "code",
   "execution_count": 271,
   "metadata": {},
   "outputs": [
    {
     "name": "stdout",
     "output_type": "stream",
     "text": [
      "Progress: [##################################################] 100.0%"
     ]
    }
   ],
   "source": [
    "test_iht = iterative_ht(Φ_mat[rand_indx],np.array(test_rvec)[rand_indx],sparsity = 20,verbose=True)"
   ]
  },
  {
   "cell_type": "markdown",
   "metadata": {},
   "source": [
    "Sample recovered signal in the Fourier domain"
   ]
  },
  {
   "cell_type": "code",
   "execution_count": 272,
   "metadata": {},
   "outputs": [
    {
     "data": {
      "text/plain": [
       "<matplotlib.image.AxesImage at 0x11490b160>"
      ]
     },
     "execution_count": 272,
     "metadata": {},
     "output_type": "execute_result"
    },
    {
     "data": {
      "image/png": "[encoded data removed]",
      "text/plain": [
       "<matplotlib.figure.Figure at 0x112d3b0f0>"
      ]
     },
     "metadata": {},
     "output_type": "display_data"
    }
   ],
   "source": [
    "plt.imshow(test_iht.reshape((n_f,n_f)),origin='lower')"
   ]
  },
  {
   "cell_type": "code",
   "execution_count": 290,
   "metadata": {},
   "outputs": [],
   "source": [
    "# cost_record_iht = []\n",
    "cost_record_iht_time = []\n",
    "for m in range(10,200):\n",
    "    rand_indx = np.random.choice(np.arange(n_f*n_f),m,replace=False)\n",
    "    x_sol = iterative_ht(Φ_mat[rand_indx],np.array(test_rvec)[rand_indx],sparsity = 20,verbose=False)\n",
    "#     cost_record_iht.append(np.linalg.norm(rec_ct-x_sol))\n",
    "    cost_record_iht_time.append(np.linalg.norm(Φ_mat@x_sol-np.array(test_rvec)))"
   ]
  },
  {
   "cell_type": "code",
   "execution_count": 307,
   "metadata": {},
   "outputs": [
    {
     "data": {
      "text/plain": [
       "Text(0,0.5,'cost')"
      ]
     },
     "execution_count": 307,
     "metadata": {},
     "output_type": "execute_result"
    },
    {
     "data": {
      "image/png": "[encoded data removed]",
      "text/plain": [
       "<matplotlib.figure.Figure at 0x115db33c8>"
      ]
     },
     "metadata": {},
     "output_type": "display_data"
    }
   ],
   "source": [
    "plt.plot(cost_record_iht_time)\n",
    "plt.xlabel('num measurements')\n",
    "plt.ylabel('cost')"
   ]
  },
  {
   "cell_type": "markdown",
   "metadata": {},
   "source": [
    "Sample recovered signal in the real space"
   ]
  },
  {
   "cell_type": "code",
   "execution_count": 291,
   "metadata": {},
   "outputs": [
    {
     "data": {
      "text/plain": [
       "<matplotlib.image.AxesImage at 0x114babe48>"
      ]
     },
     "execution_count": 291,
     "metadata": {},
     "output_type": "execute_result"
    },
    {
     "data": {
      "image/png": "[encoded data removed]",
      "text/plain": [
       "<matplotlib.figure.Figure at 0x114b74d68>"
      ]
     },
     "metadata": {},
     "output_type": "display_data"
    }
   ],
   "source": [
    "plt.imshow((Φ_mat@x_sol).reshape((n_f,n_f)))"
   ]
  },
  {
   "cell_type": "code",
   "execution_count": null,
   "metadata": {},
   "outputs": [],
   "source": []
  }
 ],
 "metadata": {
  "kernelspec": {
   "display_name": "Python + QuTiP",
   "language": "python",
   "name": "qutip-env"
  },
  "language_info": {
   "codemirror_mode": {
    "name": "ipython",
    "version": 3
   },
   "file_extension": ".py",
   "mimetype": "text/x-python",
   "name": "python",
   "nbconvert_exporter": "python",
   "pygments_lexer": "ipython3",
   "version": "3.6.4"
  }
 },
 "nbformat": 4,
 "nbformat_minor": 2
}
