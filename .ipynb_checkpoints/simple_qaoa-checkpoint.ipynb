{
 "cells": [
  {
   "cell_type": "code",
   "execution_count": 1,
   "metadata": {},
   "outputs": [],
   "source": [
    "from qaoa_rigetti import qaoa_customquil, qaoa_maxcut"
   ]
  },
  {
   "cell_type": "code",
   "execution_count": 2,
   "metadata": {},
   "outputs": [],
   "source": [
    "import matplotlib.pyplot as plt"
   ]
  },
  {
   "cell_type": "code",
   "execution_count": 3,
   "metadata": {},
   "outputs": [],
   "source": [
    "# Define a qaoa instance\n",
    "# First n angles ar the betas and the last n are the gammas.\n",
    "def qaoa_maxcut_instance(angles):\n",
    "    edges = [(0,1),(1,2),(2,3)]\n",
    "    return qaoa_maxcut(edges, angles)\n",
    "def qaoa_maxcut_negative(angles):\n",
    "    return -qaoa_maxcut_instance(angles)"
   ]
  },
  {
   "cell_type": "code",
   "execution_count": 5,
   "metadata": {},
   "outputs": [
    {
     "data": {
      "text/plain": [
       "0.574"
      ]
     },
     "execution_count": 5,
     "metadata": {},
     "output_type": "execute_result"
    }
   ],
   "source": [
    "edges = [(0,1),(1,2),(2,3)]\n",
    "qaoa_maxcut(edges,[0.1,0.2,0.3,0.4])"
   ]
  },
  {
   "cell_type": "code",
   "execution_count": 6,
   "metadata": {},
   "outputs": [
    {
     "data": {
      "text/plain": [
       "-0.081"
      ]
     },
     "execution_count": 6,
     "metadata": {},
     "output_type": "execute_result"
    }
   ],
   "source": [
    "qaoa_maxcut_negative([0.1,0.2])"
   ]
  },
  {
   "cell_type": "code",
   "execution_count": 9,
   "metadata": {},
   "outputs": [],
   "source": [
    "test = []\n",
    "for angle in range(0,100):\n",
    "    test.append(qaoa_maxcut_instance([0.1,0.2,0.3,angle/100 * 3.141592]))"
   ]
  },
  {
   "cell_type": "code",
   "execution_count": 10,
   "metadata": {
    "scrolled": true
   },
   "outputs": [
    {
     "data": {
      "text/plain": [
       "[<matplotlib.lines.Line2D at 0x11303afd0>]"
      ]
     },
     "execution_count": 10,
     "metadata": {},
     "output_type": "execute_result"
    },
    {
     "data": {
      "image/png": "[encoded data removed]",
      "text/plain": [
       "<Figure size 432x288 with 1 Axes>"
      ]
     },
     "metadata": {},
     "output_type": "display_data"
    }
   ],
   "source": [
    "plt.plot(test)"
   ]
  },
  {
   "cell_type": "code",
   "execution_count": 11,
   "metadata": {},
   "outputs": [],
   "source": [
    "from scipy.optimize import minimize"
   ]
  },
  {
   "cell_type": "code",
   "execution_count": 21,
   "metadata": {},
   "outputs": [
    {
     "name": "stdout",
     "output_type": "stream",
     "text": [
      "Optimization terminated successfully.    (Exit mode 0)\n",
      "            Current function value: -1.528\n",
      "            Iterations: 21\n",
      "            Function evaluations: 337\n",
      "            Gradient evaluations: 21\n",
      "[-0.749, -0.79, -0.753, -0.948, -1.217, -1.111, -0.391, -1.232, -0.298, -1.565, -0.416, -1.117, -1.678, -0.614, -1.859, -1.417, -1.451, -1.375, -1.503, -1.463, -1.513]\n"
     ]
    }
   ],
   "source": [
    "history = []\n",
    "def callback(x):\n",
    "    fobj = qaoa_maxcut_negative(x)\n",
    "    history.append(fobj)\n",
    "x0=[0.1,0.2,0.3,0.4]\n",
    "res = minimize(qaoa_maxcut_negative, x0, method='SLSQP', callback=callback, options={'disp':True})\n",
    "print(history)"
   ]
  },
  {
   "cell_type": "code",
   "execution_count": 20,
   "metadata": {},
   "outputs": [
    {
     "name": "stdout",
     "output_type": "stream",
     "text": [
      "     fun: -1.436\n",
      "   maxcv: 0.0\n",
      " message: 'Optimization terminated successfully.'\n",
      "    nfev: 46\n",
      "  status: 1\n",
      " success: True\n",
      "       x: array([0.09752487, 0.19429795, 1.30047692, 0.39870339])\n"
     ]
    }
   ],
   "source": [
    "print(res)"
   ]
  },
  {
   "cell_type": "code",
   "execution_count": 9,
   "metadata": {},
   "outputs": [],
   "source": [
    "from scipy.optimize import basinhopping"
   ]
  },
  {
   "cell_type": "code",
   "execution_count": 15,
   "metadata": {},
   "outputs": [
    {
     "name": "stderr",
     "output_type": "stream",
     "text": [
      "/usr/local/lib/python3.6/site-packages/scipy/optimize/optimize.py:1013: RuntimeWarning: divide by zero encountered in double_scalars\n",
      "  rhok = 1.0 / (numpy.dot(yk, sk))\n"
     ]
    },
    {
     "data": {
      "text/plain": [
       "                        fun: -2.0\n",
       " lowest_optimization_result:       fun: -2.0\n",
       " hess_inv: array([[1, 0],\n",
       "       [0, 1]])\n",
       "      jac: array([0., 0.])\n",
       "  message: 'Optimization terminated successfully.'\n",
       "     nfev: 4\n",
       "      nit: 0\n",
       "     njev: 1\n",
       "   status: 0\n",
       "  success: True\n",
       "        x: array([20.09562037, 31.42309328])\n",
       "                    message: ['requested number of basinhopping iterations completed successfully']\n",
       "      minimization_failures: 1\n",
       "                       nfev: 440\n",
       "                        nit: 20\n",
       "                       njev: 107\n",
       "                          x: array([20.09562037, 31.42309328])"
      ]
     },
     "execution_count": 15,
     "metadata": {},
     "output_type": "execute_result"
    }
   ],
   "source": [
    "minimizer_kwargs={\"method\":\"BFGS\"}\n",
    "basinhopping(qaoa_ising,x0,minimizer_kwargs=minimizer_kwargs,niter=20)"
   ]
  },
  {
   "cell_type": "code",
   "execution_count": null,
   "metadata": {},
   "outputs": [],
   "source": []
  }
 ],
 "metadata": {
  "kernelspec": {
   "display_name": "Python 3",
   "language": "python",
   "name": "python3"
  },
  "language_info": {
   "codemirror_mode": {
    "name": "ipython",
    "version": 3
   },
   "file_extension": ".py",
   "mimetype": "text/x-python",
   "name": "python",
   "nbconvert_exporter": "python",
   "pygments_lexer": "ipython3",
   "version": "3.6.5"
  }
 },
 "nbformat": 4,
 "nbformat_minor": 2
}
