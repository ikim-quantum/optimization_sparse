{
 "cells": [
  {
   "cell_type": "markdown",
   "metadata": {},
   "source": [
    "# Optimizing QAOA\n",
    "\n",
    "Consider a quantum alternating operator ansatz(QAOA) consisting of two types of driving Hamiltonian. We consider the following form of control sequence:\n",
    "$$\n",
    "U(\\{\\alpha_i, \\beta_i| i=1,\\ldots n \\}) = e^{i\\beta_n h^{(2)}} e^{i\\alpha_n h^{(1)}}\\cdots e^{i\\beta_1 h^{(2)}}e^{i\\alpha_1 h^{(1)}}.\n",
    "$$\n",
    "Suppose we change only one of the parameters. We are interested in the smoothnes of the energy landscape. Suppose that the energy landscape can be approximated well by a few Fourier coefficients. That is, there exists a rank-$r$ approximation of the function.\n",
    "$$\n",
    "\\inf_{\\{a_i \\}} |E(\\alpha_i) - \\sum_{i=1} a_{j_i} \\cos \\alpha_i| \\leq \\epsilon.\n",
    "$$\n",
    "Let the approximation be $\\tilde{E}(\\alpha_i)$. Then the global minimum of the approximation is by definition at most $\\epsilon$ apart from the global minimum of the original function. \n",
    "\n",
    "## Comparison \n",
    "\n",
    "There are two quantities to consider. The first is the sample complexity: how many samples do we need to find the global minimum up to an error $\\epsilon$? The second is the total computation time. What is the actual amount of time to compute the global minimum?\n",
    "\n",
    "In this note, we compare three different methods, under two assumptions.\n",
    "\n",
    "### Assumptions\n",
    "\n",
    "In order to compare different optimization methods, we will need to make a few nontrivial assumptions.\n",
    "\n",
    "#### Periodicity\n",
    "1. Periodic case: In certain cases, we are promised that $E(\\alpha_i)= E(\\alpha_i + \\pi)$. In this case, we are only interested in $\\alpha_i \\in [0,\\pi]$.\n",
    "\n",
    "2. Aperiodic case: The periodicity assumption will be invalid in general. In this case, we will need to introduce a cutoff for the maximum value of $\\alpha_i$. In the experiment, it will make sense to use $\\alpha_i \\in [0, 1/\\tau_d]$, where $\\tau_d$ is the coherence time.\n",
    "\n",
    "#### Continuity\n",
    "We will assume that there is a finite Lipschitz constant L:\n",
    "$$\n",
    "|E(x) - E(y)| \\leq L|x-y|.\n",
    "$$\n",
    "\n",
    "#### Convexity\n",
    "Of course $E(\\alpha_i)$ will not be convex in general, but we can still assume that it is and then compare different methods, at least for comparing gradient-based methods.\n",
    "\n",
    "#### Sparse Fourier coefficients\n",
    "Let us assume that $E(\\alpha_i)$ has only $k$ Fourier coefficients.\n",
    "\n",
    "### Methods\n",
    "1. Brute-force search: Divide up the interval\n",
    "\n",
    "2. Gradient descent: Estimate the gradient at a given point, and then perform gradient descent. Note that there will be a stochastic noise.\n",
    "\n",
    "3. Fitting-based method: Measure energy for a few values of $\\alpha_i$ and fit to a function with sparse Fourier coefficient.\n",
    "\n",
    "### Sample Complexity\n",
    "\n",
    "Gradient descent algorithm, applied to a convex and differentiable function with a finite Lipschitz constant, converges in time $1/\\epsilon$.\n",
    "\n",
    "1. If we apply the gradient descent algorithm, we probably need to estimate the gradient with a statistical noise of at least $\\epsilon$. So the total sample complexity would scale as $O(\\frac{1}{\\epsilon^3})$. Actually, because one must use $O(1/\\epsilon)$ iterations, a sum of noise over these steps may fluctuate with a prefactor $O(\\sqrt{1/\\epsilon})$. In order to suppress this contribution up to a $O(\\epsilon)$ error, the statistical accuracy for estimating gradient must be $O(\\epsilon^{3/2})$. In that case, the total sample complexity would scale as $O(\\frac{1}{\\epsilon^4})$.\n",
    "\n",
    "\n",
    "2. Suppose we have a promise that there is a rank-$r$ approximation. Then we have a sample complexity of probably $O(\\frac{r}{\\epsilon^2})$.\n",
    "\n",
    "### Time Estimate\n",
    "\n",
    "1. If we estimate the gradient directly, we have $T_{\\text{total}} = O(\\frac{\\tau_q}{\\epsilon^3})$, where $\\tau_q$ is the time for one-shot measurement. But according to a more conservative analysis given above, the total might scale as $T_{\\text{total}} = O(\\frac{\\tau_q}{\\epsilon^4})$.\n",
    "\n",
    "2. If we fit the function, then we have $T_{\\text{total}} = O(\\frac{\\tau_q r}{\\epsilon^2}) + O(\\frac{r\\tau_c}{\\epsilon})$, where $\\tau_c$ is the time for elementary arithmetic operations involving trigonometric functions. Assuming that $\\tau_c \\leq \\tau_q$, the second term becomes negligible. So we see that there is an advantage in fitting the function to some fixed form. \n"
   ]
  },
  {
   "cell_type": "code",
   "execution_count": 2,
   "metadata": {},
   "outputs": [],
   "source": [
    "import numpy as np\n",
    "import scipy.linalg as la\n",
    "from scipy import sparse\n",
    "import matplotlib.pyplot as plt"
   ]
  },
  {
   "cell_type": "markdown",
   "metadata": {},
   "source": [
    "# Experiment\n",
    "\n",
    "As a test example, suppose we are trying to optimize the following objective function.\n",
    "$$\n",
    "E(\\theta) = \\langle \\psi| (e^{-i\\theta Z})^{\\otimes k}O(e^{i\\theta Z})^{\\otimes k}|\\psi \\rangle\n",
    "$$\n",
    "for a random observable $O$ and a arandom state $| \\psi\\rangle$. Here $|\\psi\\rangle$ is chosen randomly uniformly over the Hilbert space and $O= U(Z\\otimes I \\otimes \\cdots \\otimes I)U^{\\dagger}$."
   ]
  },
  {
   "cell_type": "code",
   "execution_count": 3,
   "metadata": {},
   "outputs": [],
   "source": [
    "# Number of qubits\n",
    "n= 8\n",
    "# Define Z\n",
    "Z= np.array([[1,0],[0,-1]])"
   ]
  },
  {
   "cell_type": "code",
   "execution_count": 4,
   "metadata": {},
   "outputs": [],
   "source": [
    "# Random Unitary 1\n",
    "X = (np.random.randn(2**n, 2**n) + 1j * np.random.randn(2**n, 2**n))/np.sqrt(2)\n",
    "Q,R = np.linalg.qr(X)\n",
    "R = np.diag(np.diag(R)/abs(np.diag(R)))\n",
    "U1 = Q @ R\n",
    "\n",
    "# Random Unitary 2\n",
    "X = (np.random.randn(2**n, 2**n) + 1j * np.random.randn(2**n, 2**n))/np.sqrt(2)\n",
    "Q,R = np.linalg.qr(X)\n",
    "R = np.diag(np.diag(R)/abs(np.diag(R)))\n",
    "U2 = Q @ R"
   ]
  },
  {
   "cell_type": "code",
   "execution_count": 5,
   "metadata": {},
   "outputs": [],
   "source": [
    "itt = 50\n",
    "\n",
    "\n",
    "# Create an observable\n",
    "I = np.array([[1,0],[0,1]])\n",
    "ob = Z\n",
    "for k in range(n-1):\n",
    "    ob = sparse.kron(ob, I)\n",
    "    \n",
    "    \n",
    "# Initialize the record\n",
    "Record = []\n",
    "\n",
    "for i in range(itt):\n",
    "    # Create a state\n",
    "    psi = np.zeros(2**n)\n",
    "    psi[0] = 1\n",
    "    psi = U1 @ psi\n",
    "    # Create a single unitary\n",
    "    theta = np.pi * i / itt\n",
    "    ctrl_loc = la.expm(1j * theta * Z)\n",
    "    \n",
    "    # Create a control unitary\n",
    "    ctrl = 1\n",
    "    for j in range(n):\n",
    "        ctrl = sparse.kron(ctrl, ctrl_loc)\n",
    "        \n",
    "    # Apply the control\n",
    "    psi = ctrl @ psi\n",
    "    \n",
    "    # Measure\n",
    "    answer = np.real(psi.conj().T @ U2 @ ob @ U2.conj().T @ psi)\n",
    "    Record.append(answer)\n",
    "    "
   ]
  },
  {
   "cell_type": "code",
   "execution_count": 6,
   "metadata": {},
   "outputs": [
    {
     "data": {
      "image/png": "[encoded data removed]",
      "text/plain": [
       "<Figure size 432x288 with 1 Axes>"
      ]
     },
     "metadata": {},
     "output_type": "display_data"
    },
    {
     "data": {
      "text/plain": [
       "array([ 2.60862587e-02, -3.80603935e-01, -1.03235054e+00,  1.57306094e-01,\n",
       "       -1.30059566e-01,  1.37325266e-01,  1.72438107e-01,  4.38093282e-02,\n",
       "        8.86398059e-04, -1.22124533e-15,  9.12464548e-16, -3.70455997e-16,\n",
       "       -1.00082703e-15,  2.60208521e-16,  2.08166817e-16,  6.38378239e-16,\n",
       "        0.00000000e+00, -5.96744876e-16,  3.33066907e-16, -8.04911693e-16,\n",
       "        2.45897053e-16,  4.49345830e-16, -4.29018800e-16, -4.80518403e-16,\n",
       "        2.77555756e-16, -8.50014503e-17,  6.59194921e-17, -8.50014503e-17,\n",
       "       -6.52256027e-16, -2.56739074e-16,  2.45897053e-16, -3.79956891e-16,\n",
       "        4.04407410e-17, -5.42968448e-16,  1.38777878e-17,  3.52148866e-16,\n",
       "        1.70002901e-16,  5.95010152e-16, -7.07767178e-16, -1.00613962e-15,\n",
       "        9.12464548e-16, -2.95677818e-16,  8.86398059e-04,  4.38093282e-02,\n",
       "        1.72438107e-01,  1.37325266e-01, -1.30059566e-01,  1.57306094e-01,\n",
       "       -1.03235054e+00, -3.80603935e-01])"
      ]
     },
     "execution_count": 6,
     "metadata": {},
     "output_type": "execute_result"
    }
   ],
   "source": [
    "myfft=np.real(np.fft.fft(Record))\n",
    "plt.plot(myfft)\n",
    "plt.show()\n",
    "myfft"
   ]
  },
  {
   "cell_type": "markdown",
   "metadata": {},
   "source": [
    "One can see that the number of Fourier coefficient is small, but this was to some extent expected. The number of $e^{i\\theta Z}$ term is at most $16$, so the sparsity may be coming from the fact that $16$ is a small number. In order to test how sparse the Fourier coefficients are, we can imagine identifying some of the $\\alpha_i$s to be equal to each other. "
   ]
  },
  {
   "cell_type": "code",
   "execution_count": 7,
   "metadata": {},
   "outputs": [],
   "source": [
    "itt = 50\n",
    "layers = 5\n",
    "\n",
    "# Create an observable\n",
    "I = np.array([[1,0],[0,1]])\n",
    "ob = Z\n",
    "for k in range(n-1):\n",
    "    ob = sparse.kron(ob, I)\n",
    "    \n",
    "    \n",
    "# Initialize the record\n",
    "Record = []\n",
    "\n",
    "for i in range(itt):\n",
    "    # Create a state\n",
    "    psi = np.zeros(2**n)\n",
    "    psi[0] = 1\n",
    "    psi = U1 @ psi\n",
    "    # Create a single unitary\n",
    "    theta = np.pi * i / itt\n",
    "    ctrl_loc = la.expm(1j * theta * Z)\n",
    "    \n",
    "    # Create a control unitary\n",
    "    ctrl = 1\n",
    "    for j in range(n):\n",
    "        ctrl = sparse.kron(ctrl, ctrl_loc)\n",
    "        \n",
    "    # Create an ansatz\n",
    "    psi_ansatz = psi\n",
    "    for j in range(layers):\n",
    "        psi_ansatz = ctrl @ psi_ansatz\n",
    "        psi_ansatz = U2.conj().T @ psi_ansatz\n",
    "    \n",
    "    # Measure\n",
    "    answer = np.real(psi_ansatz.conj().T @ ob @ psi_ansatz)\n",
    "    Record.append(answer)"
   ]
  },
  {
   "cell_type": "code",
   "execution_count": 8,
   "metadata": {},
   "outputs": [
    {
     "data": {
      "image/png": "[encoded data removed]",
      "text/plain": [
       "<Figure size 432x288 with 1 Axes>"
      ]
     },
     "metadata": {},
     "output_type": "display_data"
    },
    {
     "data": {
      "text/plain": [
       "array([-2.41172338e-01,  5.60018039e-01,  2.96509945e-01,  9.28384693e-01,\n",
       "        1.44355603e-01,  1.45518202e-02,  5.98964373e-02,  9.33903762e-02,\n",
       "       -3.87732423e-02,  7.24540674e-02, -1.10761403e-01, -9.28052215e-02,\n",
       "       -1.70980480e-01, -1.26977686e-02,  4.97673070e-02,  3.85139647e-02,\n",
       "        4.80033126e-02,  8.97342549e-03, -6.29584202e-04,  1.23874871e-02,\n",
       "       -1.93999859e-03, -4.69494741e-05,  1.81203222e-03, -7.31046438e-04,\n",
       "        1.41253928e-04, -2.83741350e-04,  1.41253928e-04, -7.31046438e-04,\n",
       "        1.81203222e-03, -4.69494741e-05, -1.93999859e-03,  1.23874871e-02,\n",
       "       -6.29584202e-04,  8.97342549e-03,  4.80033126e-02,  3.85139647e-02,\n",
       "        4.97673070e-02, -1.26977686e-02, -1.70980480e-01, -9.28052215e-02,\n",
       "       -1.10761403e-01,  7.24540674e-02, -3.87732423e-02,  9.33903762e-02,\n",
       "        5.98964373e-02,  1.45518202e-02,  1.44355603e-01,  9.28384693e-01,\n",
       "        2.96509945e-01,  5.60018039e-01])"
      ]
     },
     "execution_count": 8,
     "metadata": {},
     "output_type": "execute_result"
    }
   ],
   "source": [
    "myfft=np.real(np.fft.fft(Record))\n",
    "plt.plot(myfft)\n",
    "plt.show()\n",
    "myfft"
   ]
  },
  {
   "cell_type": "code",
   "execution_count": null,
   "metadata": {},
   "outputs": [],
   "source": []
  }
 ],
 "metadata": {
  "kernelspec": {
   "display_name": "Python 3",
   "language": "python",
   "name": "python3"
  },
  "language_info": {
   "codemirror_mode": {
    "name": "ipython",
    "version": 3
   },
   "file_extension": ".py",
   "mimetype": "text/x-python",
   "name": "python",
   "nbconvert_exporter": "python",
   "pygments_lexer": "ipython3",
   "version": "3.6.5"
  }
 },
 "nbformat": 4,
 "nbformat_minor": 2
}
