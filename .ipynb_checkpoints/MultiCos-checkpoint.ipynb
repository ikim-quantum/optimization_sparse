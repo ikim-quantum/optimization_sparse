{
 "cells": [
  {
   "cell_type": "code",
   "execution_count": 1,
   "metadata": {},
   "outputs": [],
   "source": [
    "import numpy as np\n",
    "import scipy.linalg as la\n",
    "from scipy import sparse\n",
    "import matplotlib.pyplot as plt\n",
    "import scipy.fftpack as spfft\n",
    "import cvxpy as cvx\n",
    "import sklearn.linear_model as lm"
   ]
  },
  {
   "cell_type": "markdown",
   "metadata": {},
   "source": [
    "## Cosine transform"
   ]
  },
  {
   "cell_type": "code",
   "execution_count": 2,
   "metadata": {},
   "outputs": [],
   "source": [
    "import itertools as it"
   ]
  },
  {
   "cell_type": "code",
   "execution_count": 3,
   "metadata": {},
   "outputs": [],
   "source": [
    "def cfunc(x_vec,k_vec,N): #define ω=πk/2N\n",
    "    d = len(x_vec)\n",
    "    temp_val = 2**d*np.prod([np.cos(np.pi*k_vec[i]*(2*x_vec[i]+1)/(2*N)) for i in range(d)])\n",
    "    for i in k_vec:\n",
    "        if i==0:\n",
    "            temp_val*=1/np.sqrt(4*N)\n",
    "        else:\n",
    "            temp_val*=1/np.sqrt(2*N)\n",
    "    return temp_val"
   ]
  },
  {
   "cell_type": "code",
   "execution_count": 17,
   "metadata": {},
   "outputs": [],
   "source": [
    "n_f = 25\n",
    "Φ_mat = np.array([[cfunc(x,k,n_f) for k in it.product(range(n_f),repeat=2)] for x in it.product(range(n_f),repeat=2)])"
   ]
  },
  {
   "cell_type": "code",
   "execution_count": 20,
   "metadata": {},
   "outputs": [],
   "source": [
    "test_rvec = np.array([np.cos(x)*np.cos(y) for x in range(n_f) for y in range(n_f)])"
   ]
  },
  {
   "cell_type": "code",
   "execution_count": 21,
   "metadata": {},
   "outputs": [],
   "source": [
    "test_fvec = Φ_mat@test_rvec"
   ]
  },
  {
   "cell_type": "code",
   "execution_count": 24,
   "metadata": {},
   "outputs": [
    {
     "data": {
      "text/plain": [
       "<matplotlib.image.AxesImage at 0x10f794f60>"
      ]
     },
     "execution_count": 24,
     "metadata": {},
     "output_type": "execute_result"
    },
    {
     "data": {
      "image/png": "[encoded data removed]",
      "text/plain": [
       "<matplotlib.figure.Figure at 0x10fc47278>"
      ]
     },
     "metadata": {},
     "output_type": "display_data"
    }
   ],
   "source": [
    "plt.imshow(test_fvec.reshape((n_f,n_f)),origin='lower')"
   ]
  },
  {
   "cell_type": "code",
   "execution_count": 84,
   "metadata": {},
   "outputs": [],
   "source": [
    "def reconstruct_sparse_cosine(m_vecs,y_vals,verb=False):\n",
    "    \n",
    "    vx = cvx.Variable(n_f*n_f)\n",
    "    objective = cvx.Minimize(cvx.norm(vx, 1))\n",
    "    constraints = [m_vecs*vx == y_vals]\n",
    "    prob = cvx.Problem(objective, constraints)\n",
    "    result = prob.solve(verbose=verb)\n",
    "    \n",
    "    return np.squeeze(np.array(vx.value))"
   ]
  },
  {
   "cell_type": "code",
   "execution_count": 62,
   "metadata": {},
   "outputs": [],
   "source": [
    "def find_rep(num,base,dim):\n",
    "    rep = []\n",
    "    for i in range(dim-1):\n",
    "        rep.append(num//(base**(dim-i-1)))\n",
    "        num = num%(base**(dim-i-1))\n",
    "    rep.append(num)\n",
    "    return rep"
   ]
  },
  {
   "cell_type": "code",
   "execution_count": 63,
   "metadata": {},
   "outputs": [
    {
     "data": {
      "text/plain": [
       "[4, 4, 3]"
      ]
     },
     "execution_count": 63,
     "metadata": {},
     "output_type": "execute_result"
    }
   ],
   "source": [
    "find_rep(123,5,3)"
   ]
  },
  {
   "cell_type": "code",
   "execution_count": 142,
   "metadata": {},
   "outputs": [],
   "source": [
    "m = 50\n",
    "rand_indx = np.random.choice(range(625),m,replace=False)"
   ]
  },
  {
   "cell_type": "code",
   "execution_count": 143,
   "metadata": {},
   "outputs": [],
   "source": [
    "# m_vec_list = np.array([[cfunc(x,k,n_f) for k in it.product(range(n_f),repeat=2)] for x in rand_indx])"
   ]
  },
  {
   "cell_type": "code",
   "execution_count": 144,
   "metadata": {},
   "outputs": [],
   "source": [
    "test_rec = reconstruct_sparse_cosine(Φ_mat[rand_indx],np.array(test_rvec)[rand_indx])"
   ]
  },
  {
   "cell_type": "code",
   "execution_count": 145,
   "metadata": {},
   "outputs": [
    {
     "data": {
      "text/plain": [
       "<matplotlib.image.AxesImage at 0x110b15b70>"
      ]
     },
     "execution_count": 145,
     "metadata": {},
     "output_type": "execute_result"
    },
    {
     "data": {
      "image/png": "[encoded data removed]",
      "text/plain": [
       "<matplotlib.figure.Figure at 0x110619a58>"
      ]
     },
     "metadata": {},
     "output_type": "display_data"
    }
   ],
   "source": [
    "plt.imshow(test_rec.reshape((n_f,n_f)),origin='lower')"
   ]
  },
  {
   "cell_type": "code",
   "execution_count": 158,
   "metadata": {},
   "outputs": [],
   "source": [
    "# cost_record_iht = []\n",
    "cost_record_cvx_time = []\n",
    "for m in range(10,100):\n",
    "    rand_indx = np.random.choice(np.arange(n_f*n_f),m,replace=False)\n",
    "    x_sol = reconstruct_sparse_cosine(Φ_mat[rand_indx],np.array(test_rvec)[rand_indx])\n",
    "#     cost_record_iht.append(np.linalg.norm(rec_ct-x_sol))\n",
    "    cost_record_cvx_time.append(np.linalg.norm(Φ_mat@x_sol-np.array(test_rvec)))"
   ]
  },
  {
   "cell_type": "code",
   "execution_count": 159,
   "metadata": {},
   "outputs": [
    {
     "data": {
      "text/plain": [
       "[<matplotlib.lines.Line2D at 0x1114e1d68>]"
      ]
     },
     "execution_count": 159,
     "metadata": {},
     "output_type": "execute_result"
    },
    {
     "data": {
      "image/png": "[encoded data removed]",
      "text/plain": [
       "<matplotlib.figure.Figure at 0x1108c59b0>"
      ]
     },
     "metadata": {},
     "output_type": "display_data"
    }
   ],
   "source": [
    "plt.plot(cost_record_cvx_time)"
   ]
  },
  {
   "cell_type": "markdown",
   "metadata": {},
   "source": [
    "## IHT"
   ]
  },
  {
   "cell_type": "code",
   "execution_count": 109,
   "metadata": {},
   "outputs": [],
   "source": [
    "def iterative_ht(m_vecs,y_vals,sparsity,tol = 1e-3, max_iter=200,verbose=True):\n",
    "    \n",
    "    x_vec = np.zeros(m_vecs.shape[1])\n",
    "    ic = 0\n",
    "    while np.linalg.norm(y_vals-m_vecs@x_vec)>tol and ic<max_iter:\n",
    "        ic += 1\n",
    "        x_vec = x_vec + m_vecs.T@(y_vals-m_vecs@x_vec)\n",
    "        x_vec[np.argsort(-np.abs(x_vec))[sparsity:]] = 0\n",
    "        \n",
    "        if verbose:\n",
    "            workdone = (ic)/max_iter\n",
    "            print(\"\\rProgress: [{0:50s}] {1:.1f}%\".format('#' * int(workdone * 50), workdone*100), end=\"\", flush=True)\n",
    "    return x_vec "
   ]
  },
  {
   "cell_type": "code",
   "execution_count": 146,
   "metadata": {},
   "outputs": [
    {
     "name": "stdout",
     "output_type": "stream",
     "text": [
      "Progress: [##################################################] 100.0%"
     ]
    }
   ],
   "source": [
    "test_iht = iterative_ht(Φ_mat[rand_indx],np.array(test_rvec)[rand_indx],sparsity = 5,verbose=True)"
   ]
  },
  {
   "cell_type": "code",
   "execution_count": 147,
   "metadata": {},
   "outputs": [
    {
     "data": {
      "text/plain": [
       "<matplotlib.image.AxesImage at 0x1108fbcf8>"
      ]
     },
     "execution_count": 147,
     "metadata": {},
     "output_type": "execute_result"
    },
    {
     "data": {
      "image/png": "[encoded data removed]",
      "text/plain": [
       "<matplotlib.figure.Figure at 0x10f600518>"
      ]
     },
     "metadata": {},
     "output_type": "display_data"
    }
   ],
   "source": [
    "plt.imshow(test_iht.reshape((n_f,n_f)),origin='lower')"
   ]
  },
  {
   "cell_type": "code",
   "execution_count": 150,
   "metadata": {},
   "outputs": [],
   "source": [
    "# cost_record_iht = []\n",
    "cost_record_iht_time = []\n",
    "for m in range(10,100):\n",
    "    rand_indx = np.random.choice(np.arange(n_f*n_f),m,replace=False)\n",
    "    x_sol = iterative_ht(Φ_mat[rand_indx],np.array(test_rvec)[rand_indx],sparsity = 5,verbose=False)\n",
    "#     cost_record_iht.append(np.linalg.norm(rec_ct-x_sol))\n",
    "    cost_record_iht_time.append(np.linalg.norm(Φ_mat@x_sol-np.array(test_rvec)))"
   ]
  },
  {
   "cell_type": "code",
   "execution_count": 155,
   "metadata": {},
   "outputs": [
    {
     "data": {
      "text/plain": [
       "<matplotlib.image.AxesImage at 0x1108ac208>"
      ]
     },
     "execution_count": 155,
     "metadata": {},
     "output_type": "execute_result"
    },
    {
     "data": {
      "image/png": "[encoded data removed]",
      "text/plain": [
       "<matplotlib.figure.Figure at 0x1107740b8>"
      ]
     },
     "metadata": {},
     "output_type": "display_data"
    }
   ],
   "source": [
    "plt.imshow(test_rvec.reshape((n_f,n_f)))"
   ]
  },
  {
   "cell_type": "code",
   "execution_count": 157,
   "metadata": {},
   "outputs": [
    {
     "data": {
      "text/plain": [
       "<matplotlib.image.AxesImage at 0x110a5ea58>"
      ]
     },
     "execution_count": 157,
     "metadata": {},
     "output_type": "execute_result"
    },
    {
     "data": {
      "image/png": "[encoded data removed]",
      "text/plain": [
       "<matplotlib.figure.Figure at 0x1107747f0>"
      ]
     },
     "metadata": {},
     "output_type": "display_data"
    }
   ],
   "source": [
    "plt.imshow((Φ_mat@x_sol).reshape((n_f,n_f)))"
   ]
  },
  {
   "cell_type": "code",
   "execution_count": 152,
   "metadata": {},
   "outputs": [
    {
     "data": {
      "text/plain": [
       "[<matplotlib.lines.Line2D at 0x110aa8dd8>]"
      ]
     },
     "execution_count": 152,
     "metadata": {},
     "output_type": "execute_result"
    },
    {
     "data": {
      "image/png": "[encoded data removed]",
      "text/plain": [
       "<matplotlib.figure.Figure at 0x110a846d8>"
      ]
     },
     "metadata": {},
     "output_type": "display_data"
    }
   ],
   "source": [
    "plt.plot(cost_record_iht_time)"
   ]
  },
  {
   "cell_type": "code",
   "execution_count": null,
   "metadata": {},
   "outputs": [],
   "source": []
  }
 ],
 "metadata": {
  "kernelspec": {
   "display_name": "Python + QuTiP",
   "language": "python",
   "name": "qutip-env"
  },
  "language_info": {
   "codemirror_mode": {
    "name": "ipython",
    "version": 3
   },
   "file_extension": ".py",
   "mimetype": "text/x-python",
   "name": "python",
   "nbconvert_exporter": "python",
   "pygments_lexer": "ipython3",
   "version": "3.6.4"
  }
 },
 "nbformat": 4,
 "nbformat_minor": 2
}
