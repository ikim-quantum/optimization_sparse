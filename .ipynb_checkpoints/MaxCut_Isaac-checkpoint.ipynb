{
 "cells": [
  {
   "cell_type": "code",
   "execution_count": 1,
   "metadata": {},
   "outputs": [],
   "source": [
    "import numpy as np\n",
    "import scipy.linalg as la\n",
    "from scipy import sparse\n",
    "import matplotlib.pyplot as plt\n",
    "import scipy.fftpack as spfft\n",
    "from scipy.optimize import minimize,basinhopping\n",
    "import cvxpy as cvx\n",
    "from qutip import *\n",
    "from sopt import sparse_minimize"
   ]
  },
  {
   "cell_type": "markdown",
   "metadata": {},
   "source": [
    "This is a quick and inefficient MaxCut prototype using QuTiP"
   ]
  },
  {
   "cell_type": "code",
   "execution_count": 2,
   "metadata": {},
   "outputs": [],
   "source": [
    "# Number of qubits\n",
    "N= 4"
   ]
  },
  {
   "cell_type": "code",
   "execution_count": 3,
   "metadata": {},
   "outputs": [],
   "source": [
    "# Define Operators \n",
    "def gen_cij(edge):\n",
    "    i,j = edge\n",
    "    Id = [qeye(2) for n in range(N)]\n",
    "    si_n = tensor(Id)\n",
    "    Id[i] = sigmaz()\n",
    "    Id[j] = sigmaz()\n",
    "    zij = tensor(Id)\n",
    "    return 0.5*(si_n - zij)\n",
    "\n",
    "def gen_B():\n",
    "    b_op = 0*tensor([qeye(2) for j in range(N)])\n",
    "    for i in range(N):\n",
    "        Id = [qeye(2) for j in range(N)]\n",
    "        Id[i] = sigmax()\n",
    "        b_op += tensor(Id)\n",
    "    return b_op\n",
    "\n",
    "def gen_init():\n",
    "    init = tensor([basis(2,0) for i in range(N)])\n",
    "    x_all = tensor([hadamard_transform(1) for i in range(N)])\n",
    "    return (x_all*init).unit()\n",
    "\n"
   ]
  },
  {
   "cell_type": "code",
   "execution_count": 4,
   "metadata": {},
   "outputs": [],
   "source": [
    "ψ_init = gen_init()\n",
    "edges = [[0,1],[1,2],[2,3],[3,0]]\n",
    "C = np.sum(gen_cij(edge) for edge in edges)\n",
    "B = gen_B()\n",
    "C_vals, C_vecs = C.eigenstates()"
   ]
  },
  {
   "cell_type": "code",
   "execution_count": 5,
   "metadata": {},
   "outputs": [],
   "source": [
    "def gen_U(angles):\n",
    "    L = len(angles)\n",
    "    γs = angles[:int(L/2)] \n",
    "    βs = angles[int(L/2):]\n",
    "    U = np.prod([(-1j*βs[i]*B).expm()*(-1j*γs[i]*C).expm() for i in range(int(L/2))]) \n",
    "    return U "
   ]
  },
  {
   "cell_type": "code",
   "execution_count": 6,
   "metadata": {},
   "outputs": [],
   "source": [
    "def cost(angles,num_measures=0):\n",
    "    \"\"\" The cost function of MaxCut QAOA\n",
    "    \n",
    "    Args:\n",
    "        angles (list): The list of angles. The first half contains the γs and the second half has βs.\n",
    "        num_measures (int): The number of measurement shots.\n",
    "\n",
    "    Returns:\n",
    "        float: The negative of the energy of the C expression. \"\"\"\n",
    "    \n",
    "    \n",
    "    U_temp = gen_U(angles)\n",
    "    ψ_temp = U_temp*ψ_init\n",
    "    if num_measures == 0:\n",
    "        energy = -expect(C,ψ_temp)\n",
    "    else:\n",
    "        sim_counts = np.random.multinomial(num_measures,expect(ket2dm(ψ_temp),C_vecs))/num_measures \n",
    "        energy = - np.dot(C_vals,sim_counts)\n",
    "\n",
    "    return energy"
   ]
  },
  {
   "cell_type": "code",
   "execution_count": 7,
   "metadata": {},
   "outputs": [
    {
     "data": {
      "text/plain": [
       "-2.8996209078634116"
      ]
     },
     "execution_count": 7,
     "metadata": {},
     "output_type": "execute_result"
    }
   ],
   "source": [
    "cost([1,2],0)"
   ]
  },
  {
   "cell_type": "markdown",
   "metadata": {},
   "source": [
    "## Comparing some optimization routines"
   ]
  },
  {
   "cell_type": "markdown",
   "metadata": {},
   "source": [
    "### Single layer"
   ]
  },
  {
   "cell_type": "markdown",
   "metadata": {},
   "source": [
    "#### Nelder-Mead"
   ]
  },
  {
   "cell_type": "code",
   "execution_count": 8,
   "metadata": {},
   "outputs": [],
   "source": [
    "def averaged(x): # Given a list of arrays, outputs their average and standard deviation\n",
    "    # First, find the maximum length among the arrays.\n",
    "    maxlength = 0\n",
    "    for array in x:\n",
    "        if len(array) > maxlength:\n",
    "            maxlength = len(array)\n",
    "    # Pad elements at the end of each arrays, so that all of them have the same length.\n",
    "    for array in x:\n",
    "        array += [array[-1]] * (maxlength - len(array)) \n",
    "        \n",
    "    # Take the mean and standard deviation.\n",
    "    mean = []\n",
    "    std = []\n",
    "    for i in range(maxlength):\n",
    "        data = [x[j][i] for j in range(len(x))]\n",
    "        mean.append(np.mean(data))\n",
    "        std.append(np.std(data))\n",
    "        \n",
    "    return mean, std"
   ]
  },
  {
   "cell_type": "code",
   "execution_count": 9,
   "metadata": {},
   "outputs": [],
   "source": [
    "num_layers = 2"
   ]
  },
  {
   "cell_type": "code",
   "execution_count": 16,
   "metadata": {},
   "outputs": [
    {
     "name": "stdout",
     "output_type": "stream",
     "text": [
      "itt=0, which=0, cost=-2.06\n",
      "itt=0, which=1, cost=-1.98\n",
      "itt=0, which=2, cost=-2.14\n",
      "itt=0, which=3, cost=-2.26\n",
      "itt=1, which=0, cost=-2.48\n",
      "itt=1, which=1, cost=-3.12\n",
      "itt=1, which=2, cost=-3.04\n",
      "itt=1, which=3, cost=-3.42\n",
      "itt=2, which=0, cost=-3.26\n",
      "itt=2, which=1, cost=-3.1800000000000006\n",
      "itt=2, which=2, cost=-3.1\n",
      "itt=2, which=3, cost=-3.2\n",
      "itt=3, which=0, cost=-3.2\n",
      "itt=3, which=1, cost=-3.1\n",
      "itt=3, which=2, cost=-3.36\n",
      "itt=3, which=3, cost=-3.36\n",
      "itt=4, which=0, cost=-3.3\n",
      "itt=4, which=1, cost=-3.0600000000000005\n",
      "itt=4, which=2, cost=-3.26\n",
      "itt=4, which=3, cost=-3.32\n",
      "itt=5, which=0, cost=-3.56\n",
      "itt=5, which=1, cost=-3.38\n",
      "itt=5, which=2, cost=-3.44\n",
      "itt=5, which=3, cost=-3.48\n",
      "itt=6, which=0, cost=-3.54\n",
      "itt=6, which=1, cost=-3.6399999999999997\n",
      "itt=6, which=2, cost=-3.48\n",
      "itt=6, which=3, cost=-3.58\n",
      "itt=7, which=0, cost=-3.64\n",
      "itt=7, which=1, cost=-3.56\n",
      "itt=7, which=2, cost=-3.48\n",
      "itt=7, which=3, cost=-3.54\n",
      "itt=8, which=0, cost=-3.66\n",
      "itt=8, which=1, cost=-3.6399999999999997\n",
      "itt=8, which=2, cost=-3.8200000000000003\n",
      "itt=8, which=3, cost=-3.8000000000000003\n",
      "itt=9, which=0, cost=-3.78\n",
      "itt=9, which=1, cost=-3.78\n",
      "itt=9, which=2, cost=-3.9\n",
      "itt=9, which=3, cost=-3.8200000000000003\n",
      "itt=10, which=0, cost=-3.98\n",
      "itt=10, which=1, cost=-3.92\n",
      "itt=10, which=2, cost=-3.96\n",
      "itt=10, which=3, cost=-3.96\n",
      "itt=11, which=0, cost=-4.0\n",
      "itt=11, which=1, cost=-3.96\n",
      "itt=11, which=2, cost=-3.94\n",
      "itt=11, which=3, cost=-3.92\n",
      "itt=12, which=0, cost=-3.98\n",
      "itt=12, which=1, cost=-4.0\n",
      "itt=12, which=2, cost=-3.96\n",
      "itt=12, which=3, cost=-3.86\n",
      "itt=13, which=0, cost=-3.94\n",
      "itt=13, which=1, cost=-3.96\n",
      "itt=13, which=2, cost=-4.0\n",
      "itt=13, which=3, cost=-3.98\n",
      "itt=14, which=0, cost=-3.96\n",
      "itt=14, which=1, cost=-3.98\n",
      "itt=14, which=2, cost=-4.0\n",
      "itt=14, which=3, cost=-3.96\n",
      "itt=15, which=0, cost=-4.0\n",
      "itt=15, which=1, cost=-3.92\n",
      "itt=15, which=2, cost=-3.9\n",
      "itt=15, which=3, cost=-3.98\n",
      "itt=16, which=0, cost=-3.96\n",
      "itt=16, which=1, cost=-3.96\n",
      "itt=16, which=2, cost=-3.84\n",
      "itt=16, which=3, cost=-3.94\n",
      "itt=17, which=0, cost=-3.88\n",
      "itt=17, which=1, cost=-3.8400000000000003\n",
      "itt=17, which=2, cost=-3.78\n",
      "itt=17, which=3, cost=-3.82\n",
      "itt=18, which=0, cost=-3.86\n",
      "itt=18, which=1, cost=-3.84\n",
      "itt=18, which=2, cost=-3.8200000000000003\n",
      "itt=18, which=3, cost=-3.86\n",
      "itt=19, which=0, cost=-3.94\n",
      "itt=19, which=1, cost=-3.88\n",
      "itt=19, which=2, cost=-3.8800000000000003\n",
      "itt=19, which=3, cost=-3.86\n"
     ]
    },
    {
     "ename": "IndexError",
     "evalue": "list index out of range",
     "output_type": "error",
     "traceback": [
      "\u001b[0;31m---------------------------------------------------------------------------\u001b[0m",
      "\u001b[0;31mIndexError\u001b[0m                                Traceback (most recent call last)",
      "\u001b[0;32m<ipython-input-16-19025db2166b>\u001b[0m in \u001b[0;36m<module>\u001b[0;34m()\u001b[0m\n\u001b[1;32m     16\u001b[0m         \u001b[0mstats_NM\u001b[0m\u001b[0;34m.\u001b[0m\u001b[0mappend\u001b[0m\u001b[0;34m(\u001b[0m\u001b[0mstats_NM_temp\u001b[0m\u001b[0;34m)\u001b[0m\u001b[0;34m\u001b[0m\u001b[0m\n\u001b[1;32m     17\u001b[0m         \u001b[0;31m# Take the number of average and standard deviation\u001b[0m\u001b[0;34m\u001b[0m\u001b[0;34m\u001b[0m\u001b[0m\n\u001b[0;32m---> 18\u001b[0;31m         \u001b[0mmean\u001b[0m\u001b[0;34m,\u001b[0m \u001b[0mstd\u001b[0m \u001b[0;34m=\u001b[0m \u001b[0maveraged\u001b[0m\u001b[0;34m(\u001b[0m\u001b[0mstats_NM\u001b[0m\u001b[0;34m)\u001b[0m\u001b[0;34m\u001b[0m\u001b[0m\n\u001b[0m\u001b[1;32m     19\u001b[0m     \u001b[0mplt\u001b[0m\u001b[0;34m.\u001b[0m\u001b[0merrorbar\u001b[0m\u001b[0;34m(\u001b[0m\u001b[0mx\u001b[0m\u001b[0;34m=\u001b[0m\u001b[0;34m[\u001b[0m\u001b[0mi\u001b[0m \u001b[0;34m*\u001b[0m \u001b[0mn_measures\u001b[0m \u001b[0;32mfor\u001b[0m \u001b[0mi\u001b[0m \u001b[0;32min\u001b[0m \u001b[0mrange\u001b[0m\u001b[0;34m(\u001b[0m\u001b[0mlen\u001b[0m\u001b[0;34m(\u001b[0m\u001b[0mmean\u001b[0m\u001b[0;34m)\u001b[0m\u001b[0;34m)\u001b[0m\u001b[0;34m]\u001b[0m\u001b[0;34m,\u001b[0m \u001b[0my\u001b[0m\u001b[0;34m=\u001b[0m\u001b[0mmean\u001b[0m\u001b[0;34m,\u001b[0m \u001b[0myerr\u001b[0m\u001b[0;34m=\u001b[0m\u001b[0mstd\u001b[0m\u001b[0;34m)\u001b[0m\u001b[0;34m\u001b[0m\u001b[0m\n\u001b[1;32m     20\u001b[0m     \u001b[0mplt\u001b[0m\u001b[0;34m.\u001b[0m\u001b[0mtitle\u001b[0m\u001b[0;34m(\u001b[0m\u001b[0;34m'n_measures ={}'\u001b[0m\u001b[0;34m.\u001b[0m\u001b[0mformat\u001b[0m\u001b[0;34m(\u001b[0m\u001b[0mn_measures\u001b[0m\u001b[0;34m)\u001b[0m\u001b[0;34m)\u001b[0m\u001b[0;34m\u001b[0m\u001b[0m\n",
      "\u001b[0;32m<ipython-input-8-8bf7a8d3037b>\u001b[0m in \u001b[0;36maveraged\u001b[0;34m(x)\u001b[0m\n\u001b[1;32m      7\u001b[0m     \u001b[0;31m# Pad elements at the end of each arrays, so that all of them have the same length.\u001b[0m\u001b[0;34m\u001b[0m\u001b[0;34m\u001b[0m\u001b[0m\n\u001b[1;32m      8\u001b[0m     \u001b[0;32mfor\u001b[0m \u001b[0marray\u001b[0m \u001b[0;32min\u001b[0m \u001b[0mx\u001b[0m\u001b[0;34m:\u001b[0m\u001b[0;34m\u001b[0m\u001b[0m\n\u001b[0;32m----> 9\u001b[0;31m         \u001b[0marray\u001b[0m \u001b[0;34m+=\u001b[0m \u001b[0;34m[\u001b[0m\u001b[0marray\u001b[0m\u001b[0;34m[\u001b[0m\u001b[0;34m-\u001b[0m\u001b[0;36m1\u001b[0m\u001b[0;34m]\u001b[0m\u001b[0;34m]\u001b[0m \u001b[0;34m*\u001b[0m \u001b[0;34m(\u001b[0m\u001b[0mmaxlength\u001b[0m \u001b[0;34m-\u001b[0m \u001b[0mlen\u001b[0m\u001b[0;34m(\u001b[0m\u001b[0marray\u001b[0m\u001b[0;34m)\u001b[0m\u001b[0;34m)\u001b[0m\u001b[0;34m\u001b[0m\u001b[0m\n\u001b[0m\u001b[1;32m     10\u001b[0m \u001b[0;34m\u001b[0m\u001b[0m\n\u001b[1;32m     11\u001b[0m     \u001b[0;31m# Take the mean and standard deviation.\u001b[0m\u001b[0;34m\u001b[0m\u001b[0;34m\u001b[0m\u001b[0m\n",
      "\u001b[0;31mIndexError\u001b[0m: list index out of range"
     ]
    }
   ],
   "source": [
    "n_measures_list = [100,1000,10000,100000]\n",
    "n_trials = 10\n",
    "stats_NM = []\n",
    "\n",
    "def callback_NM(x): # The callback function records the \"noiseless\" value of the cost function. \n",
    "    stats_NM_temp.append(cost(x))\n",
    "    \n",
    "for n_measures in n_measures_list:\n",
    "    stats_NM = []\n",
    "    for i in range(n_trials):\n",
    "        # Initialize the history array\n",
    "        stats_NM_temp = []\n",
    "        # Record the data for n_trials iterations\n",
    "        sol_NM = minimize(cost,np.random.rand(2*num_layers),callback=callback_NM,args = (n_measures),method='Nelder-Mead')\n",
    "        #sol_NM = sparse_minimize(cost, np.random.rand(2*num_layers), cutoff=100,samples=50, args= 100)\n",
    "        stats_NM.append(stats_NM_temp)\n",
    "        # Take the number of average and standard deviation\n",
    "        mean, std = averaged(stats_NM)\n",
    "    plt.errorbar(x=[i * n_measures for i in range(len(mean))], y=mean, yerr=std)\n",
    "    plt.title('n_measures ={}'.format(n_measures))\n",
    "    plt.xlabel('# samples')\n",
    "    plt.ylabel('cost')\n",
    "    plt.show()\n",
    "        "
   ]
  },
  {
   "cell_type": "code",
   "execution_count": 16,
   "metadata": {},
   "outputs": [
    {
     "ename": "IndexError",
     "evalue": "list index out of range",
     "output_type": "error",
     "traceback": [
      "\u001b[0;31m---------------------------------------------------------------------------\u001b[0m",
      "\u001b[0;31mIndexError\u001b[0m                                Traceback (most recent call last)",
      "\u001b[0;32m<ipython-input-16-107b32e8a8e4>\u001b[0m in \u001b[0;36m<module>\u001b[0;34m()\u001b[0m\n\u001b[1;32m      1\u001b[0m \u001b[0;32mfor\u001b[0m \u001b[0mi\u001b[0m \u001b[0;32min\u001b[0m \u001b[0mrange\u001b[0m\u001b[0;34m(\u001b[0m\u001b[0mn_trials\u001b[0m\u001b[0;34m)\u001b[0m\u001b[0;34m:\u001b[0m\u001b[0;34m\u001b[0m\u001b[0m\n\u001b[1;32m      2\u001b[0m     \u001b[0;31m#plt.plot(stats_NM[i],label=f'trial #{i}')\u001b[0m\u001b[0;34m\u001b[0m\u001b[0;34m\u001b[0m\u001b[0m\n\u001b[0;32m----> 3\u001b[0;31m     \u001b[0mplt\u001b[0m\u001b[0;34m.\u001b[0m\u001b[0mplot\u001b[0m\u001b[0;34m(\u001b[0m\u001b[0mstats_NM\u001b[0m\u001b[0;34m[\u001b[0m\u001b[0mi\u001b[0m\u001b[0;34m]\u001b[0m\u001b[0;34m)\u001b[0m\u001b[0;34m\u001b[0m\u001b[0m\n\u001b[0m\u001b[1;32m      4\u001b[0m \u001b[0mplt\u001b[0m\u001b[0;34m.\u001b[0m\u001b[0mlegend\u001b[0m\u001b[0;34m(\u001b[0m\u001b[0;34m)\u001b[0m\u001b[0;34m\u001b[0m\u001b[0m\n\u001b[1;32m      5\u001b[0m \u001b[0mplt\u001b[0m\u001b[0;34m.\u001b[0m\u001b[0mxlabel\u001b[0m\u001b[0;34m(\u001b[0m\u001b[0;34m'# steps'\u001b[0m\u001b[0;34m)\u001b[0m\u001b[0;34m\u001b[0m\u001b[0m\n",
      "\u001b[0;31mIndexError\u001b[0m: list index out of range"
     ]
    }
   ],
   "source": [
    "for i in range(n_trials):\n",
    "    #plt.plot(stats_NM[i],label=f'trial #{i}')\n",
    "    plt.plot(stats_NM[i])\n",
    "plt.legend()\n",
    "plt.xlabel('# steps')\n",
    "plt.ylabel('cost');"
   ]
  },
  {
   "cell_type": "code",
   "execution_count": 48,
   "metadata": {},
   "outputs": [
    {
     "data": {
      "image/png": "[encoded data removed]",
      "text/plain": [
       "<Figure size 432x288 with 1 Axes>"
      ]
     },
     "metadata": {},
     "output_type": "display_data"
    }
   ],
   "source": [
    "end = []\n",
    "for i in range(len(stats_NM)):\n",
    "    end.append(stats_NM[i][:-1])\n",
    "a=np.hstack(end)\n",
    "plt.hist(a)\n",
    "plt.show()"
   ]
  },
  {
   "cell_type": "markdown",
   "metadata": {},
   "source": [
    "#### Sparse Optimization.\n",
    "Sparse optimization works very well!"
   ]
  },
  {
   "cell_type": "code",
   "execution_count": null,
   "metadata": {},
   "outputs": [
    {
     "name": "stdout",
     "output_type": "stream",
     "text": [
      "itt=19, which=1, cost=-3.9400000000000004\r"
     ]
    }
   ],
   "source": [
    "n_measures_list = [100,1000,10000,100000]\n",
    "n_trials = 10\n",
    "stats_so = []\n",
    "\n",
    "    \n",
    "for n_measures in n_measures_list:\n",
    "    stats_NM = []\n",
    "    for i in range(n_trials):\n",
    "        # Initialize the history array\n",
    "        stats_NM_temp = []\n",
    "        # Record the data for n_trials iterations\n",
    "        x0, value, history = sparse_minimize(cost, np.random.rand(2*num_layers), cutoff=100,samples=50, args= 100)\n",
    "        stats_so.append(history)\n",
    "        # Take the number of average and standard deviation\n",
    "        mean, std = averaged(stats_NM)\n",
    "    plt.errorbar(x=[i * n_measures for i in range(len(mean))], y=mean, yerr=std)\n",
    "    plt.title('n_measures ={}'.format(n_measures))\n",
    "    plt.xlabel('# samples')\n",
    "    plt.ylabel('cost')\n",
    "    plt.show()"
   ]
  },
  {
   "cell_type": "markdown",
   "metadata": {},
   "source": [
    "#### BFGS"
   ]
  },
  {
   "cell_type": "markdown",
   "metadata": {},
   "source": [
    "It seems that BFGS doesn't work with noise! "
   ]
  },
  {
   "cell_type": "code",
   "execution_count": 83,
   "metadata": {},
   "outputs": [],
   "source": [
    "stats_BFGS = []\n",
    "n_measures = 10000\n",
    "\n",
    "def callback_BFGS(x):\n",
    "    stats_BFGS.append(cost(x))\n",
    "\n",
    "sol_BFGS = minimize(cost,np.random.rand(2*num_layers),args = (n_measures),callback=callback_BFGS,method='BFGS')"
   ]
  },
  {
   "cell_type": "code",
   "execution_count": 84,
   "metadata": {},
   "outputs": [
    {
     "data": {
      "text/plain": [
       "(array([0.16943934, 0.14162577]), -2.191)"
      ]
     },
     "execution_count": 84,
     "metadata": {},
     "output_type": "execute_result"
    }
   ],
   "source": [
    "sol_BFGS.x,sol_BFGS.fun #Noisy cost of the optimal solution"
   ]
  },
  {
   "cell_type": "code",
   "execution_count": 85,
   "metadata": {},
   "outputs": [
    {
     "data": {
      "text/plain": [
       "-2.1784099652395925"
      ]
     },
     "execution_count": 85,
     "metadata": {},
     "output_type": "execute_result"
    }
   ],
   "source": [
    "cost(sol_BFGS.x,0) # Noiseless cost of the optimal solution"
   ]
  },
  {
   "cell_type": "code",
   "execution_count": 86,
   "metadata": {},
   "outputs": [
    {
     "data": {
      "text/plain": [
       "[<matplotlib.lines.Line2D at 0x117901470>]"
      ]
     },
     "execution_count": 86,
     "metadata": {},
     "output_type": "execute_result"
    },
    {
     "data": {
      "image/png": "[encoded data removed]",
      "text/plain": [
       "<matplotlib.figure.Figure at 0x1173755c0>"
      ]
     },
     "metadata": {},
     "output_type": "display_data"
    }
   ],
   "source": [
    "plt.plot(stats_BFGS)\n",
    "# plt.ylim([-1,-3])"
   ]
  },
  {
   "cell_type": "markdown",
   "metadata": {},
   "source": [
    "### Two layers"
   ]
  },
  {
   "cell_type": "markdown",
   "metadata": {},
   "source": [
    "#### Nelder-Mead"
   ]
  },
  {
   "cell_type": "code",
   "execution_count": 40,
   "metadata": {},
   "outputs": [],
   "source": [
    "num_layers = 2 "
   ]
  },
  {
   "cell_type": "code",
   "execution_count": 53,
   "metadata": {},
   "outputs": [],
   "source": [
    "stats_NM = []\n",
    "n_measures = 10000\n",
    "\n",
    "def callback_NM(x): # The callback function records the \"noiseless\" value of the cost function. \n",
    "    stats_NM.append(cost(x))\n",
    "    \n",
    "sol_NM = minimize(cost,np.random.rand(2*num_layers),callback=callback_NM,args = (n_measures),method='Nelder-Mead')"
   ]
  },
  {
   "cell_type": "code",
   "execution_count": 54,
   "metadata": {
    "scrolled": true
   },
   "outputs": [
    {
     "data": {
      "text/plain": [
       "[<matplotlib.lines.Line2D at 0x117027630>]"
      ]
     },
     "execution_count": 54,
     "metadata": {},
     "output_type": "execute_result"
    },
    {
     "data": {
      "image/png": "[encoded data removed]",
      "text/plain": [
       "<matplotlib.figure.Figure at 0x116e11278>"
      ]
     },
     "metadata": {},
     "output_type": "display_data"
    }
   ],
   "source": [
    "plt.plot(stats_NM)"
   ]
  },
  {
   "cell_type": "code",
   "execution_count": 55,
   "metadata": {},
   "outputs": [
    {
     "data": {
      "text/plain": [
       "(array([0.5442155 , 0.3006291 , 0.06868369, 0.32935779]), -2.7998)"
      ]
     },
     "execution_count": 55,
     "metadata": {},
     "output_type": "execute_result"
    }
   ],
   "source": [
    "sol_NM.x,sol_NM.fun"
   ]
  },
  {
   "cell_type": "code",
   "execution_count": 56,
   "metadata": {},
   "outputs": [
    {
     "data": {
      "text/plain": [
       "-2.767233410961206"
      ]
     },
     "execution_count": 56,
     "metadata": {},
     "output_type": "execute_result"
    }
   ],
   "source": [
    "cost(sol_NM.x,0) # Noiseless cost of the optimal solution"
   ]
  },
  {
   "cell_type": "code",
   "execution_count": 57,
   "metadata": {},
   "outputs": [],
   "source": [
    "stats_BFGS = []\n",
    "n_measures = 10000\n",
    "\n",
    "def callback_BFGS(x):\n",
    "    stats_BFGS.append(cost(x))\n",
    "\n",
    "sol_BFGS = minimize(cost,np.random.rand(2*num_layers),args = (n_measures),callback=callback_BFGS,method='BFGS')"
   ]
  },
  {
   "cell_type": "code",
   "execution_count": 58,
   "metadata": {},
   "outputs": [
    {
     "data": {
      "text/plain": [
       "[<matplotlib.lines.Line2D at 0x117086470>]"
      ]
     },
     "execution_count": 58,
     "metadata": {},
     "output_type": "execute_result"
    },
    {
     "data": {
      "image/png": "[encoded data removed]",
      "text/plain": [
       "<matplotlib.figure.Figure at 0x117027b38>"
      ]
     },
     "metadata": {},
     "output_type": "display_data"
    }
   ],
   "source": [
    "plt.plot(stats_BFGS)"
   ]
  },
  {
   "cell_type": "code",
   "execution_count": 59,
   "metadata": {},
   "outputs": [
    {
     "data": {
      "text/plain": [
       "(array([0.71309047, 0.99104526, 0.91231204, 0.7920937 ]), -1.561)"
      ]
     },
     "execution_count": 59,
     "metadata": {},
     "output_type": "execute_result"
    }
   ],
   "source": [
    "sol_BFGS.x,sol_BFGS.fun"
   ]
  },
  {
   "cell_type": "code",
   "execution_count": 60,
   "metadata": {},
   "outputs": [
    {
     "data": {
      "text/plain": [
       "-1.550268804858805"
      ]
     },
     "execution_count": 60,
     "metadata": {},
     "output_type": "execute_result"
    }
   ],
   "source": [
    "cost(sol_BFGS.x,0) # Noiseless cost of the optimal solution"
   ]
  },
  {
   "cell_type": "markdown",
   "metadata": {},
   "source": [
    "## Comparing with Rigetti's solution"
   ]
  },
  {
   "cell_type": "code",
   "execution_count": 202,
   "metadata": {},
   "outputs": [
    {
     "name": "stdout",
     "output_type": "stream",
     "text": [
      "The optimized value is 2.9999608711896224\n"
     ]
    }
   ],
   "source": [
    "ψ_init = gen_init()\n",
    "angle_list = [2.35394,1.18] #[γ,β]\n",
    "U_mat = gen_U(angle_list)\n",
    "ψ = U_mat*ψ_init \n",
    "\n",
    "energy = expect(C,ψ)\n",
    "print(f\"The optimized value is {energy}\")"
   ]
  },
  {
   "cell_type": "markdown",
   "metadata": {},
   "source": [
    "Plotting the wavefuntion weights"
   ]
  },
  {
   "cell_type": "code",
   "execution_count": 203,
   "metadata": {},
   "outputs": [
    {
     "data": {
      "text/plain": [
       "<Container object of 16 artists>"
      ]
     },
     "execution_count": 203,
     "metadata": {},
     "output_type": "execute_result"
    },
    {
     "data": {
      "image/png": "[encoded data removed]",
      "text/plain": [
       "<matplotlib.figure.Figure at 0x11785cd68>"
      ]
     },
     "metadata": {},
     "output_type": "display_data"
    }
   ],
   "source": [
    "plt.bar(np.arange(16),np.abs(ψ.full()).flatten())"
   ]
  },
  {
   "cell_type": "code",
   "execution_count": null,
   "metadata": {},
   "outputs": [],
   "source": []
  }
 ],
 "metadata": {
  "kernelspec": {
   "display_name": "Python 3",
   "language": "python",
   "name": "python3"
  },
  "language_info": {
   "codemirror_mode": {
    "name": "ipython",
    "version": 3
   },
   "file_extension": ".py",
   "mimetype": "text/x-python",
   "name": "python",
   "nbconvert_exporter": "python",
   "pygments_lexer": "ipython3",
   "version": "3.6.5"
  }
 },
 "nbformat": 4,
 "nbformat_minor": 2
}
