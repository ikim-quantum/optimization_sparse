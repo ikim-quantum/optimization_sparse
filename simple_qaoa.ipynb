{
 "cells": [
  {
   "cell_type": "code",
   "execution_count": 1,
   "metadata": {},
   "outputs": [],
   "source": [
    "from qaoa_rigetti import qaoa_customquil, qaoa_maxcut"
   ]
  },
  {
   "cell_type": "code",
   "execution_count": 2,
   "metadata": {},
   "outputs": [],
   "source": [
    "import matplotlib.pyplot as plt"
   ]
  },
  {
   "cell_type": "code",
   "execution_count": 12,
   "metadata": {},
   "outputs": [],
   "source": [
    "# Define a qaoa instance\n",
    "# First n angles ar the betas and the last n are the gammas.\n",
    "def qaoa_maxcut_instance(angles):\n",
    "    edges = [(0,1),(1,2),(2,3)]\n",
    "    return qaoa_maxcut(edges, angles)\n",
    "def qaoa_maxcut_negative(angles):\n",
    "    return -qaoa_maxcut_instance(angles)"
   ]
  },
  {
   "cell_type": "code",
   "execution_count": 7,
   "metadata": {},
   "outputs": [
    {
     "data": {
      "text/plain": [
       "0.291"
      ]
     },
     "execution_count": 7,
     "metadata": {},
     "output_type": "execute_result"
    }
   ],
   "source": [
    "edges = [(0,1),(1,2),(2,3)]\n",
    "qaoa_maxcut(edges,[30,40,50,60])"
   ]
  },
  {
   "cell_type": "code",
   "execution_count": 22,
   "metadata": {},
   "outputs": [
    {
     "data": {
      "text/plain": [
       "-1.464"
      ]
     },
     "execution_count": 22,
     "metadata": {},
     "output_type": "execute_result"
    }
   ],
   "source": [
    "qaoa_maxcut_negative([20,30])"
   ]
  },
  {
   "cell_type": "code",
   "execution_count": 8,
   "metadata": {},
   "outputs": [],
   "source": [
    "test = []\n",
    "for angle in range(0,90):\n",
    "    test.append(qaoa_maxcut_instance([20,30,30,angle/6]))"
   ]
  },
  {
   "cell_type": "code",
   "execution_count": 9,
   "metadata": {
    "scrolled": true
   },
   "outputs": [
    {
     "data": {
      "text/plain": [
       "[<matplotlib.lines.Line2D at 0x1102ffbe0>]"
      ]
     },
     "execution_count": 9,
     "metadata": {},
     "output_type": "execute_result"
    },
    {
     "data": {
      "image/png": "[encoded data removed]",
      "text/plain": [
       "<Figure size 432x288 with 1 Axes>"
      ]
     },
     "metadata": {},
     "output_type": "display_data"
    }
   ],
   "source": [
    "plt.plot(test)"
   ]
  },
  {
   "cell_type": "code",
   "execution_count": 10,
   "metadata": {},
   "outputs": [],
   "source": [
    "from scipy.optimize import minimize"
   ]
  },
  {
   "cell_type": "code",
   "execution_count": 21,
   "metadata": {},
   "outputs": [
    {
     "name": "stdout",
     "output_type": "stream",
     "text": [
      "Warning: Maximum number of function evaluations has been exceeded.\n",
      "[-1.465, -1.497, -1.46, -1.498, -1.495, -1.471, -1.485, -1.514, -1.524, -1.48, -1.542, -1.542, -1.474, -1.533, -1.53, -1.502, -1.448, -1.506, -1.473, -1.456, -1.496, -1.493, -1.503, -1.443, -1.502, -1.513, -1.469, -1.507, -1.487, -1.508, -1.5, -1.526, -1.45, -1.504, -1.52, -1.495, -1.5, -1.511, -1.501, -1.52, -1.484, -1.495, -1.543, -1.447, -1.49, -1.533, -1.436, -1.492, -1.503, -1.526, -1.575, -1.489, -1.477, -1.536, -1.531, -1.558, -1.477, -1.449, -1.533, -1.536, -1.516, -1.494, -1.509, -1.51, -1.513, -1.52, -1.499, -1.478, -1.501, -1.483, -1.525, -1.531, -1.492, -1.521, -1.526, -1.465, -1.554, -1.503, -1.509, -1.499, -1.543, -1.49, -1.524, -1.489, -1.465, -1.518, -1.468, -1.537, -1.485, -1.513, -1.462, -1.474, -1.457, -1.495, -1.477, -1.508, -1.552, -1.472, -1.516, -1.504, -1.526, -1.489, -1.487, -1.49, -1.511, -1.522, -1.511, -1.46, -1.508, -1.513, -1.518, -1.482, -1.513, -1.498, -1.5, -1.489, -1.467, -1.504, -1.506, -1.508, -1.49, -1.538, -1.521, -1.494, -1.505, -1.483, -1.486, -1.51, -1.504, -1.523, -1.502, -1.505, -1.493, -1.526, -1.498, -1.529, -1.47, -1.475, -1.476, -1.492, -1.465, -1.44, -1.499, -1.523, -1.532, -1.514, -1.419, -1.512, -1.481, -1.518, -1.453, -1.542, -1.514, -1.481, -1.526, -1.458, -1.535, -1.545]\n"
     ]
    }
   ],
   "source": [
    "history = []\n",
    "def callback(x):\n",
    "    fobj = qaoa_maxcut_negative(x)\n",
    "    history.append(fobj)\n",
    "x0=[20,30]\n",
    "res = minimize(qaoa_maxcut_negative, x0, method='nelder-mead', callback=callback, options={'disp':True})\n",
    "print(history)"
   ]
  },
  {
   "cell_type": "code",
   "execution_count": 9,
   "metadata": {},
   "outputs": [],
   "source": [
    "from scipy.optimize import basinhopping"
   ]
  },
  {
   "cell_type": "code",
   "execution_count": 15,
   "metadata": {},
   "outputs": [
    {
     "name": "stderr",
     "output_type": "stream",
     "text": [
      "/usr/local/lib/python3.6/site-packages/scipy/optimize/optimize.py:1013: RuntimeWarning: divide by zero encountered in double_scalars\n",
      "  rhok = 1.0 / (numpy.dot(yk, sk))\n"
     ]
    },
    {
     "data": {
      "text/plain": [
       "                        fun: -2.0\n",
       " lowest_optimization_result:       fun: -2.0\n",
       " hess_inv: array([[1, 0],\n",
       "       [0, 1]])\n",
       "      jac: array([0., 0.])\n",
       "  message: 'Optimization terminated successfully.'\n",
       "     nfev: 4\n",
       "      nit: 0\n",
       "     njev: 1\n",
       "   status: 0\n",
       "  success: True\n",
       "        x: array([20.09562037, 31.42309328])\n",
       "                    message: ['requested number of basinhopping iterations completed successfully']\n",
       "      minimization_failures: 1\n",
       "                       nfev: 440\n",
       "                        nit: 20\n",
       "                       njev: 107\n",
       "                          x: array([20.09562037, 31.42309328])"
      ]
     },
     "execution_count": 15,
     "metadata": {},
     "output_type": "execute_result"
    }
   ],
   "source": [
    "minimizer_kwargs={\"method\":\"BFGS\"}\n",
    "basinhopping(qaoa_ising,x0,minimizer_kwargs=minimizer_kwargs,niter=20)"
   ]
  },
  {
   "cell_type": "code",
   "execution_count": null,
   "metadata": {},
   "outputs": [],
   "source": []
  }
 ],
 "metadata": {
  "kernelspec": {
   "display_name": "Python 3",
   "language": "python",
   "name": "python3"
  },
  "language_info": {
   "codemirror_mode": {
    "name": "ipython",
    "version": 3
   },
   "file_extension": ".py",
   "mimetype": "text/x-python",
   "name": "python",
   "nbconvert_exporter": "python",
   "pygments_lexer": "ipython3",
   "version": "3.6.5"
  }
 },
 "nbformat": 4,
 "nbformat_minor": 2
}
