{
 "cells": [
  {
   "cell_type": "code",
   "execution_count": 1,
   "metadata": {},
   "outputs": [],
   "source": [
    "import numpy as np\n",
    "import scipy.linalg as la\n",
    "from scipy import sparse\n",
    "import matplotlib.pyplot as plt\n",
    "import scipy.fftpack as spfft\n",
    "from scipy.optimize import minimize,basinhopping\n",
    "import cvxpy as cvx\n",
    "from qutip import *"
   ]
  },
  {
   "cell_type": "markdown",
   "metadata": {},
   "source": [
    "This is a quick and inefficient MaxCut prototype using QuTiP"
   ]
  },
  {
   "cell_type": "code",
   "execution_count": 2,
   "metadata": {},
   "outputs": [],
   "source": [
    "# Number of qubits\n",
    "N= 4"
   ]
  },
  {
   "cell_type": "code",
   "execution_count": 3,
   "metadata": {},
   "outputs": [],
   "source": [
    "# Define Operators \n",
    "def gen_cij(edge):\n",
    "    i,j = edge\n",
    "    Id = [qeye(2) for n in range(N)]\n",
    "    si_n = tensor(Id)\n",
    "    Id[i] = sigmaz()\n",
    "    Id[j] = sigmaz()\n",
    "    zij = tensor(Id)\n",
    "    return 0.5*(si_n - zij)\n",
    "\n",
    "def gen_B():\n",
    "    b_op = 0*tensor([qeye(2) for j in range(N)])\n",
    "    for i in range(N):\n",
    "        Id = [qeye(2) for j in range(N)]\n",
    "        Id[i] = sigmax()\n",
    "        b_op += tensor(Id)\n",
    "    return b_op\n",
    "\n",
    "def gen_init():\n",
    "    init = tensor([basis(2,0) for i in range(N)])\n",
    "    x_all = tensor([hadamard_transform(1) for i in range(N)])\n",
    "    return (x_all*init).unit()\n",
    "\n"
   ]
  },
  {
   "cell_type": "code",
   "execution_count": 4,
   "metadata": {},
   "outputs": [],
   "source": [
    "ψ_init = gen_init()\n",
    "edges = [[0,1],[1,2],[2,3],[3,0]]\n",
    "C = np.sum(gen_cij(edge) for edge in edges)\n",
    "B = gen_B()"
   ]
  },
  {
   "cell_type": "code",
   "execution_count": 5,
   "metadata": {},
   "outputs": [],
   "source": [
    "def gen_U(angles):\n",
    "    L = len(angles)\n",
    "    γs = angles[:int(L/2)] \n",
    "    βs = angles[int(L/2):]\n",
    "    U = np.prod([(-1j*βs[i]*B).expm()*(-1j*γs[i]*C).expm() for i in range(int(L/2))]) \n",
    "    return U "
   ]
  },
  {
   "cell_type": "code",
   "execution_count": 164,
   "metadata": {},
   "outputs": [],
   "source": [
    "def cost(angles,info):\n",
    "    U_temp = gen_U(angles)\n",
    "    ψ_temp = U_temp*ψ_init\n",
    "    energy = -expect(C,ψ_temp) + (np.random.rand() * 2 -1) * 0.05\n",
    "    \n",
    "    info['Nfeval'] += 1\n",
    "    print(info, sep=' ', end='\\r', flush=True)\n",
    "    return energy"
   ]
  },
  {
   "cell_type": "markdown",
   "metadata": {},
   "source": [
    "## Comparing some optimization routines"
   ]
  },
  {
   "cell_type": "markdown",
   "metadata": {},
   "source": [
    "### Single layer"
   ]
  },
  {
   "cell_type": "code",
   "execution_count": 165,
   "metadata": {},
   "outputs": [],
   "source": [
    "num_layers = 1"
   ]
  },
  {
   "cell_type": "code",
   "execution_count": 166,
   "metadata": {},
   "outputs": [
    {
     "name": "stdout",
     "output_type": "stream",
     "text": [
      "{'Nfeval': 274}\r"
     ]
    }
   ],
   "source": [
    "sol_NM = minimize(cost,np.random.rand(2*num_layers),args=({'Nfeval':0}),method='Nelder-Mead',options={'maxiter':100})"
   ]
  },
  {
   "cell_type": "code",
   "execution_count": 167,
   "metadata": {},
   "outputs": [
    {
     "data": {
      "text/plain": [
       "(array([0.02258422, 0.29257107]), -2.091405326147797)"
      ]
     },
     "execution_count": 167,
     "metadata": {},
     "output_type": "execute_result"
    }
   ],
   "source": [
    "sol_NM.x,sol_NM.fun"
   ]
  },
  {
   "cell_type": "code",
   "execution_count": 168,
   "metadata": {},
   "outputs": [
    {
     "name": "stdout",
     "output_type": "stream",
     "text": [
      "{'Nfeval': 138}\r"
     ]
    }
   ],
   "source": [
    "sol_BFGS = minimize(cost,np.random.rand(2*num_layers),args=({'Nfeval':0}),method='BFGS')"
   ]
  },
  {
   "cell_type": "code",
   "execution_count": 169,
   "metadata": {
    "scrolled": false
   },
   "outputs": [
    {
     "data": {
      "text/plain": [
       "(array([0.41317773, 0.97510631]), -1.5367591904761977)"
      ]
     },
     "execution_count": 169,
     "metadata": {},
     "output_type": "execute_result"
    }
   ],
   "source": [
    "sol_BFGS.x,sol_BFGS.fun"
   ]
  },
  {
   "cell_type": "code",
   "execution_count": 176,
   "metadata": {},
   "outputs": [
    {
     "name": "stdout",
     "output_type": "stream",
     "text": [
      "{'Nfeval': 1}\r"
     ]
    }
   ],
   "source": [
    "# Get Random Samples\n",
    "sample_size = 1000\n",
    "sample_size_reduced = 50\n",
    "rand_angles = np.array([2 * np.pi  * i/sample_size for i in range(sample_size)])\n",
    "np.random.shuffle(rand_angles)\n",
    "angles_sampled = rand_angles[:sample_size_reduced]\n",
    "\n",
    "qaoa_sampled = []\n",
    "for angle in angles_sampled:\n",
    "    qaoa_sampled.append(cost([angle, 0.39269913], {'Nfeval':0}))                "
   ]
  },
  {
   "cell_type": "code",
   "execution_count": 177,
   "metadata": {},
   "outputs": [
    {
     "data": {
      "image/png": "[encoded data removed]",
      "text/plain": [
       "<Figure size 432x288 with 1 Axes>"
      ]
     },
     "metadata": {},
     "output_type": "display_data"
    },
    {
     "name": "stdout",
     "output_type": "stream",
     "text": [
      "{'Nfeval': 1}\r"
     ]
    },
    {
     "data": {
      "text/plain": [
       "-3.0449432196522337"
      ]
     },
     "execution_count": 177,
     "metadata": {},
     "output_type": "execute_result"
    }
   ],
   "source": [
    "# Reconstruct and draw\n",
    "from sparse_reconstruction import reconstruct_from_signal\n",
    "import matplotlib.pyplot as plt\n",
    "sparse_signal = reconstruct_from_signal(angles_sampled, qaoa_sampled, error=0)\n",
    "idx = np.argmin(sparse_signal)\n",
    "angle_opt = idx * 2 * np.pi / len(sparse_signal)\n",
    "\n",
    "plt.plot(sparse_signal)\n",
    "plt.plot(idx, sparse_signal[idx], marker='o', markersize=3, color=\"red\")\n",
    "plt.show()\n",
    "\n",
    "cost([angle_opt, 0.39269913], {'Nfeval':0})\n"
   ]
  },
  {
   "cell_type": "markdown",
   "metadata": {},
   "source": [
    "### Two layers"
   ]
  },
  {
   "cell_type": "code",
   "execution_count": 56,
   "metadata": {},
   "outputs": [],
   "source": [
    "num_layers = 2 "
   ]
  },
  {
   "cell_type": "code",
   "execution_count": 57,
   "metadata": {},
   "outputs": [
    {
     "name": "stdout",
     "output_type": "stream",
     "text": [
      "{'Nfeval': 804}\r"
     ]
    }
   ],
   "source": [
    "sol_NM = minimize(cost,np.random.rand(2*num_layers),args=({'Nfeval':0}),method='Nelder-Mead')"
   ]
  },
  {
   "cell_type": "code",
   "execution_count": 58,
   "metadata": {},
   "outputs": [
    {
     "data": {
      "text/plain": [
       "(array([0.70243793, 0.39794949, 0.28687161, 0.27761626]), -3.2605269956461265)"
      ]
     },
     "execution_count": 58,
     "metadata": {},
     "output_type": "execute_result"
    }
   ],
   "source": [
    "sol_NM.x,sol_NM.fun"
   ]
  },
  {
   "cell_type": "code",
   "execution_count": 59,
   "metadata": {},
   "outputs": [
    {
     "name": "stdout",
     "output_type": "stream",
     "text": [
      "{'Nfeval': 166}\r"
     ]
    },
    {
     "name": "stderr",
     "output_type": "stream",
     "text": [
      "/usr/local/lib/python3.6/site-packages/scipy/optimize/optimize.py:1013: RuntimeWarning: divide by zero encountered in double_scalars\n",
      "  rhok = 1.0 / (numpy.dot(yk, sk))\n"
     ]
    },
    {
     "name": "stdout",
     "output_type": "stream",
     "text": [
      "{'Nfeval': 198}\r"
     ]
    }
   ],
   "source": [
    "sol_BFGS = minimize(cost,np.random.rand(2*num_layers),args=({'Nfeval':0}),method='BFGS')"
   ]
  },
  {
   "cell_type": "code",
   "execution_count": 60,
   "metadata": {},
   "outputs": [
    {
     "data": {
      "text/plain": [
       "(array([0.0024832 , 0.41912955, 0.07147249, 0.65400422]), -2.1871294430881822)"
      ]
     },
     "execution_count": 60,
     "metadata": {},
     "output_type": "execute_result"
    }
   ],
   "source": [
    "sol_BFGS.x,sol_BFGS.fun"
   ]
  },
  {
   "cell_type": "markdown",
   "metadata": {},
   "source": [
    "## Comparing with Rigetti's solution"
   ]
  },
  {
   "cell_type": "code",
   "execution_count": 17,
   "metadata": {},
   "outputs": [
    {
     "name": "stdout",
     "output_type": "stream",
     "text": [
      "The optimized value is 2.9999608711896224\n"
     ]
    }
   ],
   "source": [
    "ψ_init = gen_init()\n",
    "angle_list = [2.35394,1.18] #[γ,β]\n",
    "U_mat = gen_U(angle_list)\n",
    "ψ = U_mat*ψ_init \n",
    "\n",
    "energy = expect(C,ψ)\n",
    "print(f\"The optimized value is {energy}\")"
   ]
  },
  {
   "cell_type": "markdown",
   "metadata": {},
   "source": [
    "Plotting the wavefuntion weights"
   ]
  },
  {
   "cell_type": "code",
   "execution_count": 18,
   "metadata": {},
   "outputs": [
    {
     "data": {
      "text/plain": [
       "<BarContainer object of 16 artists>"
      ]
     },
     "execution_count": 18,
     "metadata": {},
     "output_type": "execute_result"
    },
    {
     "data": {
      "image/png": "[encoded data removed]",
      "text/plain": [
       "<Figure size 432x288 with 1 Axes>"
      ]
     },
     "metadata": {},
     "output_type": "display_data"
    }
   ],
   "source": [
    "plt.bar(np.arange(16),np.abs(ψ.full()).flatten())"
   ]
  },
  {
   "cell_type": "code",
   "execution_count": null,
   "metadata": {},
   "outputs": [],
   "source": []
  }
 ],
 "metadata": {
  "kernelspec": {
   "display_name": "Python 3",
   "language": "python",
   "name": "python3"
  },
  "language_info": {
   "codemirror_mode": {
    "name": "ipython",
    "version": 3
   },
   "file_extension": ".py",
   "mimetype": "text/x-python",
   "name": "python",
   "nbconvert_exporter": "python",
   "pygments_lexer": "ipython3",
   "version": "3.6.5"
  }
 },
 "nbformat": 4,
 "nbformat_minor": 2
}
